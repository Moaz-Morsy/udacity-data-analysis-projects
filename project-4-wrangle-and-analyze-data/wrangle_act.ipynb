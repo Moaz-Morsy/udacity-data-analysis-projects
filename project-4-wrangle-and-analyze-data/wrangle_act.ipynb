{
 "cells": [
  {
   "cell_type": "markdown",
   "metadata": {},
   "source": [
    "# Project 4: Wrangle and Analyze `WeRateDogs` Data "
   ]
  },
  {
   "cell_type": "code",
   "execution_count": 1,
   "metadata": {},
   "outputs": [],
   "source": [
    "import os \n",
    "import requests\n",
    "import pandas as pd\n",
    "import numpy as np\n",
    "import json\n",
    "import matplotlib.pyplot as plt\n",
    "import seaborn as sns\n",
    "\n",
    "%matplotlib inline"
   ]
  },
  {
   "cell_type": "markdown",
   "metadata": {},
   "source": [
    "## Gather"
   ]
  },
  {
   "cell_type": "markdown",
   "metadata": {},
   "source": [
    "- Download `twitter_archive_enhanced.csv` directly and import it using pandas.read_csv function.\n",
    "- Download `image_predictions.tsv` programmatically using the <a href=\"https://pypi.org/project/requests/\">Requests</a> library and the following URL: https://d17h27t6h515a5.cloudfront.net/topher/2017/August/599fd2ad_image-predictions/image-predictions.tsv ,and import it using pandas.read_csv function.\n",
    "- Using the tweet IDs in `twitter_archive_enhanced.csv`, query the Twitter API for each tweet's JSON data using Python's <a href=\"http://www.tweepy.org/\" >Tweepy</a> library and store each tweet's entire set of JSON data in a file called `tweet_json.txt` ,then read the file and, create a new dataframe using pandas and append JSON data in it."
   ]
  },
  {
   "cell_type": "code",
   "execution_count": 2,
   "metadata": {},
   "outputs": [],
   "source": [
    "folder_name = 'material'\n",
    "if not os.path.exists(folder_name):\n",
    "    os.makedirs(folder_name)"
   ]
  },
  {
   "cell_type": "code",
   "execution_count": 3,
   "metadata": {},
   "outputs": [
    {
     "data": {
      "text/plain": [
       "<Response [200]>"
      ]
     },
     "execution_count": 3,
     "metadata": {},
     "output_type": "execute_result"
    }
   ],
   "source": [
    "url = 'https://d17h27t6h515a5.cloudfront.net/topher/2017/August/599fd2ad_image-predictions/image-predictions.tsv'\n",
    "response = requests.get(url)\n",
    "response  #.text"
   ]
  },
  {
   "cell_type": "code",
   "execution_count": 4,
   "metadata": {},
   "outputs": [],
   "source": [
    "with open(os.path.join(folder_name, url.split('/')[-1]), mode='w') as file:\n",
    "    file.write(response.text)"
   ]
  },
  {
   "cell_type": "code",
   "execution_count": 5,
   "metadata": {},
   "outputs": [],
   "source": [
    "df_list = []\n",
    "with open('tweet_json.txt') as json_file:\n",
    "    data = json.load(json_file)\n",
    "for p in data['tweet']:\n",
    "    df_list.append({'tweet_id':p['id'],\n",
    "                    'retweet_count':p['retweet_count'],\n",
    "                    'favorite_count':p['favorite_count']})\n",
    "    \n",
    "#df_gather = pd.DataFrame(df_list,columns=['tweet_id','retweet_count','favorite_count'])"
   ]
  },
  {
   "cell_type": "code",
   "execution_count": 6,
   "metadata": {},
   "outputs": [],
   "source": [
    "df_1 = pd.read_csv('twitter-archive-enhanced.csv')\n",
    "df_2 = pd.read_csv('material\\image-predictions.tsv', sep='\\t')\n",
    "df_3 = pd.DataFrame(df_list,columns=['tweet_id','retweet_count','favorite_count'])"
   ]
  },
  {
   "cell_type": "markdown",
   "metadata": {},
   "source": [
    "## Assess"
   ]
  },
  {
   "cell_type": "code",
   "execution_count": 7,
   "metadata": {},
   "outputs": [
    {
     "name": "stdout",
     "output_type": "stream",
     "text": [
      "<class 'pandas.core.frame.DataFrame'>\n",
      "RangeIndex: 2356 entries, 0 to 2355\n",
      "Data columns (total 17 columns):\n",
      " #   Column                      Non-Null Count  Dtype  \n",
      "---  ------                      --------------  -----  \n",
      " 0   tweet_id                    2356 non-null   int64  \n",
      " 1   in_reply_to_status_id       78 non-null     float64\n",
      " 2   in_reply_to_user_id         78 non-null     float64\n",
      " 3   timestamp                   2356 non-null   object \n",
      " 4   source                      2356 non-null   object \n",
      " 5   text                        2356 non-null   object \n",
      " 6   retweeted_status_id         181 non-null    float64\n",
      " 7   retweeted_status_user_id    181 non-null    float64\n",
      " 8   retweeted_status_timestamp  181 non-null    object \n",
      " 9   expanded_urls               2297 non-null   object \n",
      " 10  rating_numerator            2356 non-null   int64  \n",
      " 11  rating_denominator          2356 non-null   int64  \n",
      " 12  name                        2356 non-null   object \n",
      " 13  doggo                       2356 non-null   object \n",
      " 14  floofer                     2356 non-null   object \n",
      " 15  pupper                      2356 non-null   object \n",
      " 16  puppo                       2356 non-null   object \n",
      "dtypes: float64(4), int64(3), object(10)\n",
      "memory usage: 313.0+ KB\n"
     ]
    }
   ],
   "source": [
    "df_1.info()"
   ]
  },
  {
   "cell_type": "code",
   "execution_count": 8,
   "metadata": {},
   "outputs": [
    {
     "name": "stdout",
     "output_type": "stream",
     "text": [
      "<class 'pandas.core.frame.DataFrame'>\n",
      "RangeIndex: 2075 entries, 0 to 2074\n",
      "Data columns (total 12 columns):\n",
      " #   Column    Non-Null Count  Dtype  \n",
      "---  ------    --------------  -----  \n",
      " 0   tweet_id  2075 non-null   int64  \n",
      " 1   jpg_url   2075 non-null   object \n",
      " 2   img_num   2075 non-null   int64  \n",
      " 3   p1        2075 non-null   object \n",
      " 4   p1_conf   2075 non-null   float64\n",
      " 5   p1_dog    2075 non-null   bool   \n",
      " 6   p2        2075 non-null   object \n",
      " 7   p2_conf   2075 non-null   float64\n",
      " 8   p2_dog    2075 non-null   bool   \n",
      " 9   p3        2075 non-null   object \n",
      " 10  p3_conf   2075 non-null   float64\n",
      " 11  p3_dog    2075 non-null   bool   \n",
      "dtypes: bool(3), float64(3), int64(2), object(4)\n",
      "memory usage: 152.1+ KB\n"
     ]
    }
   ],
   "source": [
    "df_2.info()"
   ]
  },
  {
   "cell_type": "code",
   "execution_count": 9,
   "metadata": {},
   "outputs": [
    {
     "name": "stdout",
     "output_type": "stream",
     "text": [
      "<class 'pandas.core.frame.DataFrame'>\n",
      "RangeIndex: 1743 entries, 0 to 1742\n",
      "Data columns (total 3 columns):\n",
      " #   Column          Non-Null Count  Dtype\n",
      "---  ------          --------------  -----\n",
      " 0   tweet_id        1743 non-null   int64\n",
      " 1   retweet_count   1743 non-null   int64\n",
      " 2   favorite_count  1743 non-null   int64\n",
      "dtypes: int64(3)\n",
      "memory usage: 41.0 KB\n"
     ]
    }
   ],
   "source": [
    "df_3.info()"
   ]
  },
  {
   "cell_type": "code",
   "execution_count": 10,
   "metadata": {},
   "outputs": [
    {
     "data": {
      "text/html": [
       "<div>\n",
       "<style scoped>\n",
       "    .dataframe tbody tr th:only-of-type {\n",
       "        vertical-align: middle;\n",
       "    }\n",
       "\n",
       "    .dataframe tbody tr th {\n",
       "        vertical-align: top;\n",
       "    }\n",
       "\n",
       "    .dataframe thead th {\n",
       "        text-align: right;\n",
       "    }\n",
       "</style>\n",
       "<table border=\"1\" class=\"dataframe\">\n",
       "  <thead>\n",
       "    <tr style=\"text-align: right;\">\n",
       "      <th></th>\n",
       "      <th>tweet_id</th>\n",
       "      <th>in_reply_to_status_id</th>\n",
       "      <th>in_reply_to_user_id</th>\n",
       "      <th>timestamp</th>\n",
       "      <th>source</th>\n",
       "      <th>text</th>\n",
       "      <th>retweeted_status_id</th>\n",
       "      <th>retweeted_status_user_id</th>\n",
       "      <th>retweeted_status_timestamp</th>\n",
       "      <th>expanded_urls</th>\n",
       "      <th>rating_numerator</th>\n",
       "      <th>rating_denominator</th>\n",
       "      <th>name</th>\n",
       "      <th>doggo</th>\n",
       "      <th>floofer</th>\n",
       "      <th>pupper</th>\n",
       "      <th>puppo</th>\n",
       "    </tr>\n",
       "  </thead>\n",
       "  <tbody>\n",
       "    <tr>\n",
       "      <th>0</th>\n",
       "      <td>892420643555336193</td>\n",
       "      <td>NaN</td>\n",
       "      <td>NaN</td>\n",
       "      <td>2017-08-01 16:23:56 +0000</td>\n",
       "      <td>&lt;a href=\"http://twitter.com/download/iphone\" r...</td>\n",
       "      <td>This is Phineas. He's a mystical boy. Only eve...</td>\n",
       "      <td>NaN</td>\n",
       "      <td>NaN</td>\n",
       "      <td>NaN</td>\n",
       "      <td>https://twitter.com/dog_rates/status/892420643...</td>\n",
       "      <td>13</td>\n",
       "      <td>10</td>\n",
       "      <td>Phineas</td>\n",
       "      <td>None</td>\n",
       "      <td>None</td>\n",
       "      <td>None</td>\n",
       "      <td>None</td>\n",
       "    </tr>\n",
       "    <tr>\n",
       "      <th>1</th>\n",
       "      <td>892177421306343426</td>\n",
       "      <td>NaN</td>\n",
       "      <td>NaN</td>\n",
       "      <td>2017-08-01 00:17:27 +0000</td>\n",
       "      <td>&lt;a href=\"http://twitter.com/download/iphone\" r...</td>\n",
       "      <td>This is Tilly. She's just checking pup on you....</td>\n",
       "      <td>NaN</td>\n",
       "      <td>NaN</td>\n",
       "      <td>NaN</td>\n",
       "      <td>https://twitter.com/dog_rates/status/892177421...</td>\n",
       "      <td>13</td>\n",
       "      <td>10</td>\n",
       "      <td>Tilly</td>\n",
       "      <td>None</td>\n",
       "      <td>None</td>\n",
       "      <td>None</td>\n",
       "      <td>None</td>\n",
       "    </tr>\n",
       "    <tr>\n",
       "      <th>2</th>\n",
       "      <td>891815181378084864</td>\n",
       "      <td>NaN</td>\n",
       "      <td>NaN</td>\n",
       "      <td>2017-07-31 00:18:03 +0000</td>\n",
       "      <td>&lt;a href=\"http://twitter.com/download/iphone\" r...</td>\n",
       "      <td>This is Archie. He is a rare Norwegian Pouncin...</td>\n",
       "      <td>NaN</td>\n",
       "      <td>NaN</td>\n",
       "      <td>NaN</td>\n",
       "      <td>https://twitter.com/dog_rates/status/891815181...</td>\n",
       "      <td>12</td>\n",
       "      <td>10</td>\n",
       "      <td>Archie</td>\n",
       "      <td>None</td>\n",
       "      <td>None</td>\n",
       "      <td>None</td>\n",
       "      <td>None</td>\n",
       "    </tr>\n",
       "  </tbody>\n",
       "</table>\n",
       "</div>"
      ],
      "text/plain": [
       "             tweet_id  in_reply_to_status_id  in_reply_to_user_id  \\\n",
       "0  892420643555336193                    NaN                  NaN   \n",
       "1  892177421306343426                    NaN                  NaN   \n",
       "2  891815181378084864                    NaN                  NaN   \n",
       "\n",
       "                   timestamp  \\\n",
       "0  2017-08-01 16:23:56 +0000   \n",
       "1  2017-08-01 00:17:27 +0000   \n",
       "2  2017-07-31 00:18:03 +0000   \n",
       "\n",
       "                                              source  \\\n",
       "0  <a href=\"http://twitter.com/download/iphone\" r...   \n",
       "1  <a href=\"http://twitter.com/download/iphone\" r...   \n",
       "2  <a href=\"http://twitter.com/download/iphone\" r...   \n",
       "\n",
       "                                                text  retweeted_status_id  \\\n",
       "0  This is Phineas. He's a mystical boy. Only eve...                  NaN   \n",
       "1  This is Tilly. She's just checking pup on you....                  NaN   \n",
       "2  This is Archie. He is a rare Norwegian Pouncin...                  NaN   \n",
       "\n",
       "   retweeted_status_user_id retweeted_status_timestamp  \\\n",
       "0                       NaN                        NaN   \n",
       "1                       NaN                        NaN   \n",
       "2                       NaN                        NaN   \n",
       "\n",
       "                                       expanded_urls  rating_numerator  \\\n",
       "0  https://twitter.com/dog_rates/status/892420643...                13   \n",
       "1  https://twitter.com/dog_rates/status/892177421...                13   \n",
       "2  https://twitter.com/dog_rates/status/891815181...                12   \n",
       "\n",
       "   rating_denominator     name doggo floofer pupper puppo  \n",
       "0                  10  Phineas  None    None   None  None  \n",
       "1                  10    Tilly  None    None   None  None  \n",
       "2                  10   Archie  None    None   None  None  "
      ]
     },
     "execution_count": 10,
     "metadata": {},
     "output_type": "execute_result"
    }
   ],
   "source": [
    "df_1.head(3)"
   ]
  },
  {
   "cell_type": "code",
   "execution_count": 11,
   "metadata": {},
   "outputs": [
    {
     "data": {
      "text/html": [
       "<div>\n",
       "<style scoped>\n",
       "    .dataframe tbody tr th:only-of-type {\n",
       "        vertical-align: middle;\n",
       "    }\n",
       "\n",
       "    .dataframe tbody tr th {\n",
       "        vertical-align: top;\n",
       "    }\n",
       "\n",
       "    .dataframe thead th {\n",
       "        text-align: right;\n",
       "    }\n",
       "</style>\n",
       "<table border=\"1\" class=\"dataframe\">\n",
       "  <thead>\n",
       "    <tr style=\"text-align: right;\">\n",
       "      <th></th>\n",
       "      <th>tweet_id</th>\n",
       "      <th>jpg_url</th>\n",
       "      <th>img_num</th>\n",
       "      <th>p1</th>\n",
       "      <th>p1_conf</th>\n",
       "      <th>p1_dog</th>\n",
       "      <th>p2</th>\n",
       "      <th>p2_conf</th>\n",
       "      <th>p2_dog</th>\n",
       "      <th>p3</th>\n",
       "      <th>p3_conf</th>\n",
       "      <th>p3_dog</th>\n",
       "    </tr>\n",
       "  </thead>\n",
       "  <tbody>\n",
       "    <tr>\n",
       "      <th>0</th>\n",
       "      <td>666020888022790149</td>\n",
       "      <td>https://pbs.twimg.com/media/CT4udn0WwAA0aMy.jpg</td>\n",
       "      <td>1</td>\n",
       "      <td>Welsh_springer_spaniel</td>\n",
       "      <td>0.465074</td>\n",
       "      <td>True</td>\n",
       "      <td>collie</td>\n",
       "      <td>0.156665</td>\n",
       "      <td>True</td>\n",
       "      <td>Shetland_sheepdog</td>\n",
       "      <td>0.061428</td>\n",
       "      <td>True</td>\n",
       "    </tr>\n",
       "    <tr>\n",
       "      <th>1</th>\n",
       "      <td>666029285002620928</td>\n",
       "      <td>https://pbs.twimg.com/media/CT42GRgUYAA5iDo.jpg</td>\n",
       "      <td>1</td>\n",
       "      <td>redbone</td>\n",
       "      <td>0.506826</td>\n",
       "      <td>True</td>\n",
       "      <td>miniature_pinscher</td>\n",
       "      <td>0.074192</td>\n",
       "      <td>True</td>\n",
       "      <td>Rhodesian_ridgeback</td>\n",
       "      <td>0.072010</td>\n",
       "      <td>True</td>\n",
       "    </tr>\n",
       "    <tr>\n",
       "      <th>2</th>\n",
       "      <td>666033412701032449</td>\n",
       "      <td>https://pbs.twimg.com/media/CT4521TWwAEvMyu.jpg</td>\n",
       "      <td>1</td>\n",
       "      <td>German_shepherd</td>\n",
       "      <td>0.596461</td>\n",
       "      <td>True</td>\n",
       "      <td>malinois</td>\n",
       "      <td>0.138584</td>\n",
       "      <td>True</td>\n",
       "      <td>bloodhound</td>\n",
       "      <td>0.116197</td>\n",
       "      <td>True</td>\n",
       "    </tr>\n",
       "  </tbody>\n",
       "</table>\n",
       "</div>"
      ],
      "text/plain": [
       "             tweet_id                                          jpg_url  \\\n",
       "0  666020888022790149  https://pbs.twimg.com/media/CT4udn0WwAA0aMy.jpg   \n",
       "1  666029285002620928  https://pbs.twimg.com/media/CT42GRgUYAA5iDo.jpg   \n",
       "2  666033412701032449  https://pbs.twimg.com/media/CT4521TWwAEvMyu.jpg   \n",
       "\n",
       "   img_num                      p1   p1_conf  p1_dog                  p2  \\\n",
       "0        1  Welsh_springer_spaniel  0.465074    True              collie   \n",
       "1        1                 redbone  0.506826    True  miniature_pinscher   \n",
       "2        1         German_shepherd  0.596461    True            malinois   \n",
       "\n",
       "    p2_conf  p2_dog                   p3   p3_conf  p3_dog  \n",
       "0  0.156665    True    Shetland_sheepdog  0.061428    True  \n",
       "1  0.074192    True  Rhodesian_ridgeback  0.072010    True  \n",
       "2  0.138584    True           bloodhound  0.116197    True  "
      ]
     },
     "execution_count": 11,
     "metadata": {},
     "output_type": "execute_result"
    }
   ],
   "source": [
    "df_2.head(3)"
   ]
  },
  {
   "cell_type": "code",
   "execution_count": 12,
   "metadata": {},
   "outputs": [
    {
     "data": {
      "text/html": [
       "<div>\n",
       "<style scoped>\n",
       "    .dataframe tbody tr th:only-of-type {\n",
       "        vertical-align: middle;\n",
       "    }\n",
       "\n",
       "    .dataframe tbody tr th {\n",
       "        vertical-align: top;\n",
       "    }\n",
       "\n",
       "    .dataframe thead th {\n",
       "        text-align: right;\n",
       "    }\n",
       "</style>\n",
       "<table border=\"1\" class=\"dataframe\">\n",
       "  <thead>\n",
       "    <tr style=\"text-align: right;\">\n",
       "      <th></th>\n",
       "      <th>tweet_id</th>\n",
       "      <th>retweet_count</th>\n",
       "      <th>favorite_count</th>\n",
       "    </tr>\n",
       "  </thead>\n",
       "  <tbody>\n",
       "    <tr>\n",
       "      <th>0</th>\n",
       "      <td>892420643555336193</td>\n",
       "      <td>7689</td>\n",
       "      <td>36109</td>\n",
       "    </tr>\n",
       "    <tr>\n",
       "      <th>1</th>\n",
       "      <td>892177421306343426</td>\n",
       "      <td>5688</td>\n",
       "      <td>31149</td>\n",
       "    </tr>\n",
       "    <tr>\n",
       "      <th>2</th>\n",
       "      <td>891815181378084864</td>\n",
       "      <td>3771</td>\n",
       "      <td>23460</td>\n",
       "    </tr>\n",
       "  </tbody>\n",
       "</table>\n",
       "</div>"
      ],
      "text/plain": [
       "             tweet_id  retweet_count  favorite_count\n",
       "0  892420643555336193           7689           36109\n",
       "1  892177421306343426           5688           31149\n",
       "2  891815181378084864           3771           23460"
      ]
     },
     "execution_count": 12,
     "metadata": {},
     "output_type": "execute_result"
    }
   ],
   "source": [
    "df_3.head(3)"
   ]
  },
  {
   "cell_type": "markdown",
   "metadata": {},
   "source": [
    "## Quality:\n",
    "##### `df_1`  table represents `twitter-archive-enhanced.csv` :\n",
    "- number of rows must be matched with number of rows in `df_3` table which represents `tweet_json.txt` which has 1743 rows\n",
    "- 'in_reply_to_status_id','in_reply_to_user_id','retweeted_status_id','retweeted_status_user_id','retweeted_status_timestamp' in `df_1` table should be dropped as number of Nan values are too large and cannot be retrieved using pandas drop function\n",
    "- some rating_numerator values have decimal part inside text column but these values appear as integer without decimal part in rating_numerator. so, we will extract the full rating from text column in new full_rating column, then extract rating_numerator and assign these values in rating_numerator column.\n",
    "- fix rating_numerator and rating_denominator columns: 99/90 = 11/10, 143/130 = 11/10 and so on\n",
    "- more fix in rating_numerator and rating_denominator columns: 7/11 ~ 7/10 and 24/7 ~ 34/10\n",
    "- check source column in `df_1` for categorical values\n",
    "\n",
    "##### `df_2`  table represents `image-predictions.tsv` :\n",
    "- rows which have at least one true prediction should be chosen and drop all rows that have three false predictions \n",
    "- number of rows must be matched with number of rows in `df_3` table which represents `tweet_json.txt` which has 1743 rows\n",
    "- tweet_id should be sort in descending order to be matched with tweet_id order in `df_1` and `df_3` and reset index to match index in `df_1` and `df_3`\n",
    "\n",
    "#### Reassess and Re-Clean :\n",
    "- number of rows in `df_1` must be matched with number of rows in `df_2` table which has 1304 rows\n",
    "- number of rows in `df_3` must be matched with number of rows in `df_2` table which has 1304 rows\n",
    "- reset index for all tables\n",
    "\n",
    "## Tidiness :\n",
    "- six variables in six columns in `df_2` table ('p1', 'p1_conf', 'p1_dog', 'p2','p2_conf', 'p2_dog', 'p3', 'p3_conf','p3_dog'), we will replace these variables with three columns represent breed of dog , confidance of alogrithm and chosen algorithm\n",
    "- five variables in four columns in `df_1` table (doggo, floofer, pupper, puppo and None), we will create one column for stages by extract each stage alone then combine them in column represents all stages\n",
    "- - `df_1_clean`, `df_2_clean` and `df_3_clean` will be merged together in one dataframe `df_final` and stored in `twitter_archive_master.csv`\n",
    "\n",
    "## Quality and Tidness for `df_final` table represents `twitter_archive_master.csv` :\n",
    "- tweet_id is a float not a string using .astype function\n",
    "- time stamp column is object not time type\n",
    "- we need to change type of stages of dog, image number,breed of dog and chosen algorithm to category\n",
    "- check 'expanded_urls' and 'jpg_url' columns \n",
    "- re-index columns as we make our analysis more helpful\n",
    "- adjust variables in img_num and prediction_algorithm columns"
   ]
  },
  {
   "cell_type": "markdown",
   "metadata": {},
   "source": [
    "## Clean"
   ]
  },
  {
   "cell_type": "code",
   "execution_count": 13,
   "metadata": {},
   "outputs": [],
   "source": [
    "df_1_clean = df_1.copy()\n",
    "df_2_clean = df_2.copy()\n",
    "df_3_clean = df_3.copy()"
   ]
  },
  {
   "cell_type": "markdown",
   "metadata": {},
   "source": [
    "#### Define"
   ]
  },
  {
   "cell_type": "markdown",
   "metadata": {},
   "source": [
    "- tweet_id should be sort in descending order to be matched with tweet_id order in `df_1` and `df_3`\n",
    "- reset index to match index in `df_1` and `df_3`"
   ]
  },
  {
   "cell_type": "markdown",
   "metadata": {},
   "source": [
    "#### Code"
   ]
  },
  {
   "cell_type": "code",
   "execution_count": 14,
   "metadata": {},
   "outputs": [],
   "source": [
    "df_2_clean = df_2_clean.sort_values(by='tweet_id',ascending=False)"
   ]
  },
  {
   "cell_type": "code",
   "execution_count": 15,
   "metadata": {},
   "outputs": [],
   "source": [
    "df_2_clean.reset_index(drop=True, inplace=True)"
   ]
  },
  {
   "cell_type": "markdown",
   "metadata": {},
   "source": [
    "#### Test"
   ]
  },
  {
   "cell_type": "code",
   "execution_count": 16,
   "metadata": {},
   "outputs": [
    {
     "data": {
      "text/plain": [
       "0    892420643555336193\n",
       "1    892177421306343426\n",
       "2    891815181378084864\n",
       "Name: tweet_id, dtype: int64"
      ]
     },
     "execution_count": 16,
     "metadata": {},
     "output_type": "execute_result"
    }
   ],
   "source": [
    "df_2_clean.tweet_id.head(3)"
   ]
  },
  {
   "cell_type": "code",
   "execution_count": 17,
   "metadata": {},
   "outputs": [
    {
     "data": {
      "text/plain": [
       "0    892420643555336193\n",
       "1    892177421306343426\n",
       "2    891815181378084864\n",
       "Name: tweet_id, dtype: int64"
      ]
     },
     "execution_count": 17,
     "metadata": {},
     "output_type": "execute_result"
    }
   ],
   "source": [
    "df_1_clean.tweet_id.head(3)"
   ]
  },
  {
   "cell_type": "code",
   "execution_count": 18,
   "metadata": {},
   "outputs": [
    {
     "data": {
      "text/plain": [
       "0    892420643555336193\n",
       "1    892177421306343426\n",
       "2    891815181378084864\n",
       "Name: tweet_id, dtype: int64"
      ]
     },
     "execution_count": 18,
     "metadata": {},
     "output_type": "execute_result"
    }
   ],
   "source": [
    "df_3_clean.tweet_id.head(3)"
   ]
  },
  {
   "cell_type": "markdown",
   "metadata": {},
   "source": [
    "#### Define"
   ]
  },
  {
   "cell_type": "markdown",
   "metadata": {},
   "source": [
    "- number of rows in `df_1` must be matched with number of rows in `df_3` table which represents `tweet_json.txt`"
   ]
  },
  {
   "cell_type": "markdown",
   "metadata": {},
   "source": [
    "#### Code"
   ]
  },
  {
   "cell_type": "code",
   "execution_count": 19,
   "metadata": {},
   "outputs": [],
   "source": [
    "df_1_clean = df_1_clean[df_1_clean.tweet_id.isin(df_3_clean.tweet_id)]"
   ]
  },
  {
   "cell_type": "markdown",
   "metadata": {},
   "source": [
    "#### Test"
   ]
  },
  {
   "cell_type": "code",
   "execution_count": 20,
   "metadata": {},
   "outputs": [
    {
     "name": "stdout",
     "output_type": "stream",
     "text": [
      "1743\n",
      "1743\n"
     ]
    }
   ],
   "source": [
    "print(df_1_clean.shape[0])\n",
    "print(df_3_clean.shape[0])"
   ]
  },
  {
   "cell_type": "markdown",
   "metadata": {},
   "source": [
    "#### Define"
   ]
  },
  {
   "cell_type": "markdown",
   "metadata": {},
   "source": [
    "- number of rows in `df_2` must be matched with number of rows in `df_3` table which represents `tweet_json.txt`"
   ]
  },
  {
   "cell_type": "markdown",
   "metadata": {},
   "source": [
    "#### Code"
   ]
  },
  {
   "cell_type": "code",
   "execution_count": 21,
   "metadata": {},
   "outputs": [],
   "source": [
    "df_2_clean = df_2_clean[df_2_clean.tweet_id.isin(df_3_clean.tweet_id)]"
   ]
  },
  {
   "cell_type": "markdown",
   "metadata": {},
   "source": [
    "#### Test"
   ]
  },
  {
   "cell_type": "code",
   "execution_count": 22,
   "metadata": {},
   "outputs": [
    {
     "name": "stdout",
     "output_type": "stream",
     "text": [
      "1506\n",
      "1743\n"
     ]
    }
   ],
   "source": [
    "print(df_2_clean.shape[0])\n",
    "print(df_3_clean.shape[0])"
   ]
  },
  {
   "cell_type": "code",
   "execution_count": 23,
   "metadata": {},
   "outputs": [
    {
     "data": {
      "text/plain": [
       "0    892420643555336193\n",
       "1    892177421306343426\n",
       "2    891815181378084864\n",
       "Name: tweet_id, dtype: int64"
      ]
     },
     "execution_count": 23,
     "metadata": {},
     "output_type": "execute_result"
    }
   ],
   "source": [
    "df_2_clean.tweet_id.head(3)"
   ]
  },
  {
   "cell_type": "code",
   "execution_count": 24,
   "metadata": {},
   "outputs": [],
   "source": [
    "# df_3[df_3.tweet_id.isin(df_2.tweet_id)].shape[0]"
   ]
  },
  {
   "cell_type": "markdown",
   "metadata": {},
   "source": [
    "#### Define"
   ]
  },
  {
   "cell_type": "markdown",
   "metadata": {},
   "source": [
    "- rows which have at least one true prediction should be chosen and drop all row that have three false predictions"
   ]
  },
  {
   "cell_type": "markdown",
   "metadata": {},
   "source": [
    "#### Code"
   ]
  },
  {
   "cell_type": "code",
   "execution_count": 25,
   "metadata": {},
   "outputs": [],
   "source": [
    "df_2_clean = df_2_clean[ (df_2_clean.p1_dog) | (df_2_clean.p2_dog) | (df_2_clean.p3_dog) ]"
   ]
  },
  {
   "cell_type": "markdown",
   "metadata": {},
   "source": [
    "#### Test"
   ]
  },
  {
   "cell_type": "code",
   "execution_count": 26,
   "metadata": {},
   "outputs": [
    {
     "data": {
      "text/plain": [
       "array([ True, False])"
      ]
     },
     "execution_count": 26,
     "metadata": {},
     "output_type": "execute_result"
    }
   ],
   "source": [
    "df_2_clean.p2_dog.unique()"
   ]
  },
  {
   "cell_type": "code",
   "execution_count": 27,
   "metadata": {},
   "outputs": [
    {
     "data": {
      "text/plain": [
       "1304"
      ]
     },
     "execution_count": 27,
     "metadata": {},
     "output_type": "execute_result"
    }
   ],
   "source": [
    "df_2_clean.shape[0]"
   ]
  },
  {
   "cell_type": "code",
   "execution_count": 28,
   "metadata": {},
   "outputs": [
    {
     "data": {
      "text/plain": [
       "1743"
      ]
     },
     "execution_count": 28,
     "metadata": {},
     "output_type": "execute_result"
    }
   ],
   "source": [
    "df_3_clean.shape[0]"
   ]
  },
  {
   "cell_type": "code",
   "execution_count": 29,
   "metadata": {},
   "outputs": [
    {
     "data": {
      "text/plain": [
       "1743"
      ]
     },
     "execution_count": 29,
     "metadata": {},
     "output_type": "execute_result"
    }
   ],
   "source": [
    "df_1_clean.shape[0]"
   ]
  },
  {
   "cell_type": "markdown",
   "metadata": {},
   "source": [
    "## Reassess and Re-Clean\n",
    "- number of rows in `df_1` must be matched with number of rows in `df_2` table which has 1304 rows\n",
    "- number of rows in `df_3` must be matched with number of rows in `df_2` table which has 1304 rows"
   ]
  },
  {
   "cell_type": "markdown",
   "metadata": {},
   "source": [
    "#### Code"
   ]
  },
  {
   "cell_type": "code",
   "execution_count": 30,
   "metadata": {},
   "outputs": [],
   "source": [
    "df_1_clean = df_1_clean[df_1_clean.tweet_id.isin(df_2_clean.tweet_id)]\n",
    "df_3_clean = df_3_clean[df_3_clean.tweet_id.isin(df_2_clean.tweet_id)]"
   ]
  },
  {
   "cell_type": "markdown",
   "metadata": {},
   "source": [
    "#### Test"
   ]
  },
  {
   "cell_type": "code",
   "execution_count": 31,
   "metadata": {
    "scrolled": false
   },
   "outputs": [
    {
     "name": "stdout",
     "output_type": "stream",
     "text": [
      "1304\n",
      "1304\n",
      "1304\n"
     ]
    }
   ],
   "source": [
    "print(df_1_clean.shape[0])\n",
    "print(df_2_clean.shape[0])\n",
    "print(df_3_clean.shape[0])"
   ]
  },
  {
   "cell_type": "markdown",
   "metadata": {},
   "source": [
    "#### Define"
   ]
  },
  {
   "cell_type": "markdown",
   "metadata": {},
   "source": [
    "- six variables in six columns in `df_2` table ('p1', 'p1_conf', 'p1_dog', 'p2','p2_conf', 'p2_dog', 'p3', 'p3_conf','p3_dog'), we will replace these variables with three columns represent breed of dog , confidance of alogrithm and chosen algorithm"
   ]
  },
  {
   "cell_type": "markdown",
   "metadata": {},
   "source": [
    "#### Code"
   ]
  },
  {
   "cell_type": "code",
   "execution_count": 32,
   "metadata": {},
   "outputs": [
    {
     "data": {
      "text/plain": [
       "Index(['tweet_id', 'jpg_url', 'img_num', 'p1', 'p1_conf', 'p1_dog', 'p2',\n",
       "       'p2_conf', 'p2_dog', 'p3', 'p3_conf', 'p3_dog'],\n",
       "      dtype='object')"
      ]
     },
     "execution_count": 32,
     "metadata": {},
     "output_type": "execute_result"
    }
   ],
   "source": [
    "df_2_clean.columns"
   ]
  },
  {
   "cell_type": "code",
   "execution_count": 33,
   "metadata": {},
   "outputs": [],
   "source": [
    "df_2_p1 = df_2_clean[['tweet_id', 'jpg_url', 'img_num', 'p1', 'p1_conf', 'p1_dog']]\n",
    "df_2_p2 = df_2_clean[['tweet_id', 'jpg_url', 'img_num', 'p2', 'p2_conf', 'p2_dog']]\n",
    "df_2_p3 = df_2_clean[['tweet_id', 'jpg_url', 'img_num', 'p3', 'p3_conf', 'p3_dog']]"
   ]
  },
  {
   "cell_type": "code",
   "execution_count": 34,
   "metadata": {},
   "outputs": [],
   "source": [
    "df_2_p1 = df_2_p1.rename(columns={'p1':'p','p1_conf':'p_conf','p1_dog':'p_dog'})\n",
    "df_2_p2 = df_2_p2.rename(columns={'p2':'p','p2_conf':'p_conf','p2_dog':'p_dog'})\n",
    "df_2_p3 = df_2_p3.rename(columns={'p3':'p','p3_conf':'p_conf','p3_dog':'p_dog'})"
   ]
  },
  {
   "cell_type": "code",
   "execution_count": 35,
   "metadata": {},
   "outputs": [],
   "source": [
    "df_2_p1 = df_2_p1[df_2_p1.p_dog]\n",
    "df_2_p2 = df_2_p2[df_2_p2.p_dog]\n",
    "df_2_p3 = df_2_p3[df_2_p3.p_dog]"
   ]
  },
  {
   "cell_type": "code",
   "execution_count": 36,
   "metadata": {},
   "outputs": [],
   "source": [
    "df_2_p1['prediction_algorithm'] = 'p1'\n",
    "df_2_p2['prediction_algorithm'] = 'p2'\n",
    "df_2_p3['prediction_algorithm'] = 'p3'"
   ]
  },
  {
   "cell_type": "code",
   "execution_count": 37,
   "metadata": {
    "scrolled": true
   },
   "outputs": [
    {
     "data": {
      "text/html": [
       "<div>\n",
       "<style scoped>\n",
       "    .dataframe tbody tr th:only-of-type {\n",
       "        vertical-align: middle;\n",
       "    }\n",
       "\n",
       "    .dataframe tbody tr th {\n",
       "        vertical-align: top;\n",
       "    }\n",
       "\n",
       "    .dataframe thead th {\n",
       "        text-align: right;\n",
       "    }\n",
       "</style>\n",
       "<table border=\"1\" class=\"dataframe\">\n",
       "  <thead>\n",
       "    <tr style=\"text-align: right;\">\n",
       "      <th></th>\n",
       "      <th>tweet_id</th>\n",
       "      <th>jpg_url</th>\n",
       "      <th>img_num</th>\n",
       "      <th>p</th>\n",
       "      <th>p_conf</th>\n",
       "      <th>p_dog</th>\n",
       "      <th>prediction_algorithm</th>\n",
       "    </tr>\n",
       "  </thead>\n",
       "  <tbody>\n",
       "    <tr>\n",
       "      <th>1</th>\n",
       "      <td>892177421306343426</td>\n",
       "      <td>https://pbs.twimg.com/media/DGGmoV4XsAAUL6n.jpg</td>\n",
       "      <td>1</td>\n",
       "      <td>Chihuahua</td>\n",
       "      <td>0.323581</td>\n",
       "      <td>True</td>\n",
       "      <td>p1</td>\n",
       "    </tr>\n",
       "    <tr>\n",
       "      <th>2</th>\n",
       "      <td>891815181378084864</td>\n",
       "      <td>https://pbs.twimg.com/media/DGBdLU1WsAANxJ9.jpg</td>\n",
       "      <td>1</td>\n",
       "      <td>Chihuahua</td>\n",
       "      <td>0.716012</td>\n",
       "      <td>True</td>\n",
       "      <td>p1</td>\n",
       "    </tr>\n",
       "    <tr>\n",
       "      <th>4</th>\n",
       "      <td>891327558926688256</td>\n",
       "      <td>https://pbs.twimg.com/media/DF6hr6BUMAAzZgT.jpg</td>\n",
       "      <td>2</td>\n",
       "      <td>basset</td>\n",
       "      <td>0.555712</td>\n",
       "      <td>True</td>\n",
       "      <td>p1</td>\n",
       "    </tr>\n",
       "  </tbody>\n",
       "</table>\n",
       "</div>"
      ],
      "text/plain": [
       "             tweet_id                                          jpg_url  \\\n",
       "1  892177421306343426  https://pbs.twimg.com/media/DGGmoV4XsAAUL6n.jpg   \n",
       "2  891815181378084864  https://pbs.twimg.com/media/DGBdLU1WsAANxJ9.jpg   \n",
       "4  891327558926688256  https://pbs.twimg.com/media/DF6hr6BUMAAzZgT.jpg   \n",
       "\n",
       "   img_num          p    p_conf  p_dog prediction_algorithm  \n",
       "1        1  Chihuahua  0.323581   True                   p1  \n",
       "2        1  Chihuahua  0.716012   True                   p1  \n",
       "4        2     basset  0.555712   True                   p1  "
      ]
     },
     "execution_count": 37,
     "metadata": {},
     "output_type": "execute_result"
    }
   ],
   "source": [
    "df_2_p1.head(3)"
   ]
  },
  {
   "cell_type": "code",
   "execution_count": 38,
   "metadata": {},
   "outputs": [
    {
     "data": {
      "text/html": [
       "<div>\n",
       "<style scoped>\n",
       "    .dataframe tbody tr th:only-of-type {\n",
       "        vertical-align: middle;\n",
       "    }\n",
       "\n",
       "    .dataframe tbody tr th {\n",
       "        vertical-align: top;\n",
       "    }\n",
       "\n",
       "    .dataframe thead th {\n",
       "        text-align: right;\n",
       "    }\n",
       "</style>\n",
       "<table border=\"1\" class=\"dataframe\">\n",
       "  <thead>\n",
       "    <tr style=\"text-align: right;\">\n",
       "      <th></th>\n",
       "      <th>tweet_id</th>\n",
       "      <th>jpg_url</th>\n",
       "      <th>img_num</th>\n",
       "      <th>p</th>\n",
       "      <th>p_conf</th>\n",
       "      <th>p_dog</th>\n",
       "      <th>prediction_algorithm</th>\n",
       "    </tr>\n",
       "  </thead>\n",
       "  <tbody>\n",
       "    <tr>\n",
       "      <th>1</th>\n",
       "      <td>892177421306343426</td>\n",
       "      <td>https://pbs.twimg.com/media/DGGmoV4XsAAUL6n.jpg</td>\n",
       "      <td>1</td>\n",
       "      <td>Pekinese</td>\n",
       "      <td>0.090647</td>\n",
       "      <td>True</td>\n",
       "      <td>p2</td>\n",
       "    </tr>\n",
       "    <tr>\n",
       "      <th>2</th>\n",
       "      <td>891815181378084864</td>\n",
       "      <td>https://pbs.twimg.com/media/DGBdLU1WsAANxJ9.jpg</td>\n",
       "      <td>1</td>\n",
       "      <td>malamute</td>\n",
       "      <td>0.078253</td>\n",
       "      <td>True</td>\n",
       "      <td>p2</td>\n",
       "    </tr>\n",
       "    <tr>\n",
       "      <th>3</th>\n",
       "      <td>891689557279858688</td>\n",
       "      <td>https://pbs.twimg.com/media/DF_q7IAWsAEuuN8.jpg</td>\n",
       "      <td>1</td>\n",
       "      <td>Labrador_retriever</td>\n",
       "      <td>0.168086</td>\n",
       "      <td>True</td>\n",
       "      <td>p2</td>\n",
       "    </tr>\n",
       "  </tbody>\n",
       "</table>\n",
       "</div>"
      ],
      "text/plain": [
       "             tweet_id                                          jpg_url  \\\n",
       "1  892177421306343426  https://pbs.twimg.com/media/DGGmoV4XsAAUL6n.jpg   \n",
       "2  891815181378084864  https://pbs.twimg.com/media/DGBdLU1WsAANxJ9.jpg   \n",
       "3  891689557279858688  https://pbs.twimg.com/media/DF_q7IAWsAEuuN8.jpg   \n",
       "\n",
       "   img_num                   p    p_conf  p_dog prediction_algorithm  \n",
       "1        1            Pekinese  0.090647   True                   p2  \n",
       "2        1            malamute  0.078253   True                   p2  \n",
       "3        1  Labrador_retriever  0.168086   True                   p2  "
      ]
     },
     "execution_count": 38,
     "metadata": {},
     "output_type": "execute_result"
    }
   ],
   "source": [
    "df_2_p2.head(3)"
   ]
  },
  {
   "cell_type": "code",
   "execution_count": 39,
   "metadata": {},
   "outputs": [
    {
     "data": {
      "text/html": [
       "<div>\n",
       "<style scoped>\n",
       "    .dataframe tbody tr th:only-of-type {\n",
       "        vertical-align: middle;\n",
       "    }\n",
       "\n",
       "    .dataframe tbody tr th {\n",
       "        vertical-align: top;\n",
       "    }\n",
       "\n",
       "    .dataframe thead th {\n",
       "        text-align: right;\n",
       "    }\n",
       "</style>\n",
       "<table border=\"1\" class=\"dataframe\">\n",
       "  <thead>\n",
       "    <tr style=\"text-align: right;\">\n",
       "      <th></th>\n",
       "      <th>tweet_id</th>\n",
       "      <th>jpg_url</th>\n",
       "      <th>img_num</th>\n",
       "      <th>p</th>\n",
       "      <th>p_conf</th>\n",
       "      <th>p_dog</th>\n",
       "      <th>prediction_algorithm</th>\n",
       "    </tr>\n",
       "  </thead>\n",
       "  <tbody>\n",
       "    <tr>\n",
       "      <th>1</th>\n",
       "      <td>892177421306343426</td>\n",
       "      <td>https://pbs.twimg.com/media/DGGmoV4XsAAUL6n.jpg</td>\n",
       "      <td>1</td>\n",
       "      <td>papillon</td>\n",
       "      <td>0.068957</td>\n",
       "      <td>True</td>\n",
       "      <td>p3</td>\n",
       "    </tr>\n",
       "    <tr>\n",
       "      <th>2</th>\n",
       "      <td>891815181378084864</td>\n",
       "      <td>https://pbs.twimg.com/media/DGBdLU1WsAANxJ9.jpg</td>\n",
       "      <td>1</td>\n",
       "      <td>kelpie</td>\n",
       "      <td>0.031379</td>\n",
       "      <td>True</td>\n",
       "      <td>p3</td>\n",
       "    </tr>\n",
       "    <tr>\n",
       "      <th>4</th>\n",
       "      <td>891327558926688256</td>\n",
       "      <td>https://pbs.twimg.com/media/DF6hr6BUMAAzZgT.jpg</td>\n",
       "      <td>2</td>\n",
       "      <td>German_short-haired_pointer</td>\n",
       "      <td>0.175219</td>\n",
       "      <td>True</td>\n",
       "      <td>p3</td>\n",
       "    </tr>\n",
       "  </tbody>\n",
       "</table>\n",
       "</div>"
      ],
      "text/plain": [
       "             tweet_id                                          jpg_url  \\\n",
       "1  892177421306343426  https://pbs.twimg.com/media/DGGmoV4XsAAUL6n.jpg   \n",
       "2  891815181378084864  https://pbs.twimg.com/media/DGBdLU1WsAANxJ9.jpg   \n",
       "4  891327558926688256  https://pbs.twimg.com/media/DF6hr6BUMAAzZgT.jpg   \n",
       "\n",
       "   img_num                            p    p_conf  p_dog prediction_algorithm  \n",
       "1        1                     papillon  0.068957   True                   p3  \n",
       "2        1                       kelpie  0.031379   True                   p3  \n",
       "4        2  German_short-haired_pointer  0.175219   True                   p3  "
      ]
     },
     "execution_count": 39,
     "metadata": {},
     "output_type": "execute_result"
    }
   ],
   "source": [
    "df_2_p3.head(3)"
   ]
  },
  {
   "cell_type": "code",
   "execution_count": 40,
   "metadata": {},
   "outputs": [],
   "source": [
    "dummy = pd.concat([df_2_p1,df_2_p2,df_2_p3])"
   ]
  },
  {
   "cell_type": "code",
   "execution_count": 41,
   "metadata": {},
   "outputs": [
    {
     "data": {
      "text/html": [
       "<div>\n",
       "<style scoped>\n",
       "    .dataframe tbody tr th:only-of-type {\n",
       "        vertical-align: middle;\n",
       "    }\n",
       "\n",
       "    .dataframe tbody tr th {\n",
       "        vertical-align: top;\n",
       "    }\n",
       "\n",
       "    .dataframe thead th {\n",
       "        text-align: right;\n",
       "    }\n",
       "</style>\n",
       "<table border=\"1\" class=\"dataframe\">\n",
       "  <thead>\n",
       "    <tr style=\"text-align: right;\">\n",
       "      <th></th>\n",
       "      <th>tweet_id</th>\n",
       "      <th>jpg_url</th>\n",
       "      <th>img_num</th>\n",
       "      <th>p</th>\n",
       "      <th>p_conf</th>\n",
       "      <th>p_dog</th>\n",
       "      <th>prediction_algorithm</th>\n",
       "    </tr>\n",
       "  </thead>\n",
       "  <tbody>\n",
       "    <tr>\n",
       "      <th>1</th>\n",
       "      <td>892177421306343426</td>\n",
       "      <td>https://pbs.twimg.com/media/DGGmoV4XsAAUL6n.jpg</td>\n",
       "      <td>1</td>\n",
       "      <td>Chihuahua</td>\n",
       "      <td>0.323581</td>\n",
       "      <td>True</td>\n",
       "      <td>p1</td>\n",
       "    </tr>\n",
       "  </tbody>\n",
       "</table>\n",
       "</div>"
      ],
      "text/plain": [
       "             tweet_id                                          jpg_url  \\\n",
       "1  892177421306343426  https://pbs.twimg.com/media/DGGmoV4XsAAUL6n.jpg   \n",
       "\n",
       "   img_num          p    p_conf  p_dog prediction_algorithm  \n",
       "1        1  Chihuahua  0.323581   True                   p1  "
      ]
     },
     "execution_count": 41,
     "metadata": {},
     "output_type": "execute_result"
    }
   ],
   "source": [
    "dummy.head(1)"
   ]
  },
  {
   "cell_type": "code",
   "execution_count": 42,
   "metadata": {},
   "outputs": [
    {
     "data": {
      "text/plain": [
       "0       0.952773\n",
       "1       0.420155\n",
       "2       0.582560\n",
       "3       0.412362\n",
       "4       0.292343\n",
       "          ...   \n",
       "1299    0.425595\n",
       "1300    0.555712\n",
       "1301    0.168086\n",
       "1302    0.716012\n",
       "1303    0.323581\n",
       "Name: p_conf, Length: 1304, dtype: float64"
      ]
     },
     "execution_count": 42,
     "metadata": {},
     "output_type": "execute_result"
    }
   ],
   "source": [
    "max_conf = dummy.groupby('tweet_id', as_index=False)['p_conf'].max()\n",
    "max_conf.p_conf"
   ]
  },
  {
   "cell_type": "code",
   "execution_count": 43,
   "metadata": {},
   "outputs": [
    {
     "data": {
      "text/html": [
       "<div>\n",
       "<style scoped>\n",
       "    .dataframe tbody tr th:only-of-type {\n",
       "        vertical-align: middle;\n",
       "    }\n",
       "\n",
       "    .dataframe tbody tr th {\n",
       "        vertical-align: top;\n",
       "    }\n",
       "\n",
       "    .dataframe thead th {\n",
       "        text-align: right;\n",
       "    }\n",
       "</style>\n",
       "<table border=\"1\" class=\"dataframe\">\n",
       "  <thead>\n",
       "    <tr style=\"text-align: right;\">\n",
       "      <th></th>\n",
       "      <th>tweet_id</th>\n",
       "      <th>jpg_url</th>\n",
       "      <th>img_num</th>\n",
       "      <th>p</th>\n",
       "      <th>p_conf</th>\n",
       "      <th>p_dog</th>\n",
       "      <th>prediction_algorithm</th>\n",
       "    </tr>\n",
       "  </thead>\n",
       "  <tbody>\n",
       "    <tr>\n",
       "      <th>1</th>\n",
       "      <td>892177421306343426</td>\n",
       "      <td>https://pbs.twimg.com/media/DGGmoV4XsAAUL6n.jpg</td>\n",
       "      <td>1</td>\n",
       "      <td>Chihuahua</td>\n",
       "      <td>0.323581</td>\n",
       "      <td>True</td>\n",
       "      <td>p1</td>\n",
       "    </tr>\n",
       "    <tr>\n",
       "      <th>2</th>\n",
       "      <td>891815181378084864</td>\n",
       "      <td>https://pbs.twimg.com/media/DGBdLU1WsAANxJ9.jpg</td>\n",
       "      <td>1</td>\n",
       "      <td>Chihuahua</td>\n",
       "      <td>0.716012</td>\n",
       "      <td>True</td>\n",
       "      <td>p1</td>\n",
       "    </tr>\n",
       "    <tr>\n",
       "      <th>3</th>\n",
       "      <td>891689557279858688</td>\n",
       "      <td>https://pbs.twimg.com/media/DF_q7IAWsAEuuN8.jpg</td>\n",
       "      <td>1</td>\n",
       "      <td>Labrador_retriever</td>\n",
       "      <td>0.168086</td>\n",
       "      <td>True</td>\n",
       "      <td>p2</td>\n",
       "    </tr>\n",
       "    <tr>\n",
       "      <th>4</th>\n",
       "      <td>891327558926688256</td>\n",
       "      <td>https://pbs.twimg.com/media/DF6hr6BUMAAzZgT.jpg</td>\n",
       "      <td>2</td>\n",
       "      <td>basset</td>\n",
       "      <td>0.555712</td>\n",
       "      <td>True</td>\n",
       "      <td>p1</td>\n",
       "    </tr>\n",
       "    <tr>\n",
       "      <th>5</th>\n",
       "      <td>891087950875897856</td>\n",
       "      <td>https://pbs.twimg.com/media/DF3HwyEWsAABqE6.jpg</td>\n",
       "      <td>1</td>\n",
       "      <td>Chesapeake_Bay_retriever</td>\n",
       "      <td>0.425595</td>\n",
       "      <td>True</td>\n",
       "      <td>p1</td>\n",
       "    </tr>\n",
       "    <tr>\n",
       "      <th>...</th>\n",
       "      <td>...</td>\n",
       "      <td>...</td>\n",
       "      <td>...</td>\n",
       "      <td>...</td>\n",
       "      <td>...</td>\n",
       "      <td>...</td>\n",
       "      <td>...</td>\n",
       "    </tr>\n",
       "    <tr>\n",
       "      <th>1707</th>\n",
       "      <td>672964561327235073</td>\n",
       "      <td>https://pbs.twimg.com/media/CVbZsouWUAIsxMc.jpg</td>\n",
       "      <td>1</td>\n",
       "      <td>Chihuahua</td>\n",
       "      <td>0.292343</td>\n",
       "      <td>True</td>\n",
       "      <td>p1</td>\n",
       "    </tr>\n",
       "    <tr>\n",
       "      <th>1711</th>\n",
       "      <td>672877615439593473</td>\n",
       "      <td>https://pbs.twimg.com/media/CVaKn75XAAEU09u.jpg</td>\n",
       "      <td>1</td>\n",
       "      <td>Chihuahua</td>\n",
       "      <td>0.412362</td>\n",
       "      <td>True</td>\n",
       "      <td>p1</td>\n",
       "    </tr>\n",
       "    <tr>\n",
       "      <th>1712</th>\n",
       "      <td>672834301050937345</td>\n",
       "      <td>https://pbs.twimg.com/media/CVZjOktVAAAtigw.jpg</td>\n",
       "      <td>1</td>\n",
       "      <td>Pembroke</td>\n",
       "      <td>0.582560</td>\n",
       "      <td>True</td>\n",
       "      <td>p1</td>\n",
       "    </tr>\n",
       "    <tr>\n",
       "      <th>1714</th>\n",
       "      <td>672640509974827008</td>\n",
       "      <td>https://pbs.twimg.com/media/CVWy9v-VAAALSoE.jpg</td>\n",
       "      <td>1</td>\n",
       "      <td>Chesapeake_Bay_retriever</td>\n",
       "      <td>0.420155</td>\n",
       "      <td>True</td>\n",
       "      <td>p1</td>\n",
       "    </tr>\n",
       "    <tr>\n",
       "      <th>1715</th>\n",
       "      <td>672622327801233409</td>\n",
       "      <td>https://pbs.twimg.com/media/CVWicBbUYAIomjC.jpg</td>\n",
       "      <td>1</td>\n",
       "      <td>golden_retriever</td>\n",
       "      <td>0.952773</td>\n",
       "      <td>True</td>\n",
       "      <td>p1</td>\n",
       "    </tr>\n",
       "  </tbody>\n",
       "</table>\n",
       "<p>1304 rows × 7 columns</p>\n",
       "</div>"
      ],
      "text/plain": [
       "                tweet_id                                          jpg_url  \\\n",
       "1     892177421306343426  https://pbs.twimg.com/media/DGGmoV4XsAAUL6n.jpg   \n",
       "2     891815181378084864  https://pbs.twimg.com/media/DGBdLU1WsAANxJ9.jpg   \n",
       "3     891689557279858688  https://pbs.twimg.com/media/DF_q7IAWsAEuuN8.jpg   \n",
       "4     891327558926688256  https://pbs.twimg.com/media/DF6hr6BUMAAzZgT.jpg   \n",
       "5     891087950875897856  https://pbs.twimg.com/media/DF3HwyEWsAABqE6.jpg   \n",
       "...                  ...                                              ...   \n",
       "1707  672964561327235073  https://pbs.twimg.com/media/CVbZsouWUAIsxMc.jpg   \n",
       "1711  672877615439593473  https://pbs.twimg.com/media/CVaKn75XAAEU09u.jpg   \n",
       "1712  672834301050937345  https://pbs.twimg.com/media/CVZjOktVAAAtigw.jpg   \n",
       "1714  672640509974827008  https://pbs.twimg.com/media/CVWy9v-VAAALSoE.jpg   \n",
       "1715  672622327801233409  https://pbs.twimg.com/media/CVWicBbUYAIomjC.jpg   \n",
       "\n",
       "      img_num                         p    p_conf  p_dog prediction_algorithm  \n",
       "1           1                 Chihuahua  0.323581   True                   p1  \n",
       "2           1                 Chihuahua  0.716012   True                   p1  \n",
       "3           1        Labrador_retriever  0.168086   True                   p2  \n",
       "4           2                    basset  0.555712   True                   p1  \n",
       "5           1  Chesapeake_Bay_retriever  0.425595   True                   p1  \n",
       "...       ...                       ...       ...    ...                  ...  \n",
       "1707        1                 Chihuahua  0.292343   True                   p1  \n",
       "1711        1                 Chihuahua  0.412362   True                   p1  \n",
       "1712        1                  Pembroke  0.582560   True                   p1  \n",
       "1714        1  Chesapeake_Bay_retriever  0.420155   True                   p1  \n",
       "1715        1          golden_retriever  0.952773   True                   p1  \n",
       "\n",
       "[1304 rows x 7 columns]"
      ]
     },
     "execution_count": 43,
     "metadata": {},
     "output_type": "execute_result"
    }
   ],
   "source": [
    "dummy = dummy[dummy.p_conf.isin(max_conf.p_conf)]\n",
    "dummy.sort_values('tweet_id', ascending=False) "
   ]
  },
  {
   "cell_type": "code",
   "execution_count": 44,
   "metadata": {},
   "outputs": [
    {
     "data": {
      "text/html": [
       "<div>\n",
       "<style scoped>\n",
       "    .dataframe tbody tr th:only-of-type {\n",
       "        vertical-align: middle;\n",
       "    }\n",
       "\n",
       "    .dataframe tbody tr th {\n",
       "        vertical-align: top;\n",
       "    }\n",
       "\n",
       "    .dataframe thead th {\n",
       "        text-align: right;\n",
       "    }\n",
       "</style>\n",
       "<table border=\"1\" class=\"dataframe\">\n",
       "  <thead>\n",
       "    <tr style=\"text-align: right;\">\n",
       "      <th></th>\n",
       "      <th>tweet_id</th>\n",
       "      <th>jpg_url</th>\n",
       "      <th>img_num</th>\n",
       "      <th>p</th>\n",
       "      <th>p_conf</th>\n",
       "      <th>p_dog</th>\n",
       "      <th>prediction_algorithm</th>\n",
       "    </tr>\n",
       "  </thead>\n",
       "  <tbody>\n",
       "    <tr>\n",
       "      <th>1</th>\n",
       "      <td>892177421306343426</td>\n",
       "      <td>https://pbs.twimg.com/media/DGGmoV4XsAAUL6n.jpg</td>\n",
       "      <td>1</td>\n",
       "      <td>Chihuahua</td>\n",
       "      <td>0.323581</td>\n",
       "      <td>True</td>\n",
       "      <td>p1</td>\n",
       "    </tr>\n",
       "    <tr>\n",
       "      <th>2</th>\n",
       "      <td>891815181378084864</td>\n",
       "      <td>https://pbs.twimg.com/media/DGBdLU1WsAANxJ9.jpg</td>\n",
       "      <td>1</td>\n",
       "      <td>Chihuahua</td>\n",
       "      <td>0.716012</td>\n",
       "      <td>True</td>\n",
       "      <td>p1</td>\n",
       "    </tr>\n",
       "    <tr>\n",
       "      <th>3</th>\n",
       "      <td>891689557279858688</td>\n",
       "      <td>https://pbs.twimg.com/media/DF_q7IAWsAEuuN8.jpg</td>\n",
       "      <td>1</td>\n",
       "      <td>Labrador_retriever</td>\n",
       "      <td>0.168086</td>\n",
       "      <td>True</td>\n",
       "      <td>p2</td>\n",
       "    </tr>\n",
       "    <tr>\n",
       "      <th>4</th>\n",
       "      <td>891327558926688256</td>\n",
       "      <td>https://pbs.twimg.com/media/DF6hr6BUMAAzZgT.jpg</td>\n",
       "      <td>2</td>\n",
       "      <td>basset</td>\n",
       "      <td>0.555712</td>\n",
       "      <td>True</td>\n",
       "      <td>p1</td>\n",
       "    </tr>\n",
       "    <tr>\n",
       "      <th>5</th>\n",
       "      <td>891087950875897856</td>\n",
       "      <td>https://pbs.twimg.com/media/DF3HwyEWsAABqE6.jpg</td>\n",
       "      <td>1</td>\n",
       "      <td>Chesapeake_Bay_retriever</td>\n",
       "      <td>0.425595</td>\n",
       "      <td>True</td>\n",
       "      <td>p1</td>\n",
       "    </tr>\n",
       "  </tbody>\n",
       "</table>\n",
       "</div>"
      ],
      "text/plain": [
       "             tweet_id                                          jpg_url  \\\n",
       "1  892177421306343426  https://pbs.twimg.com/media/DGGmoV4XsAAUL6n.jpg   \n",
       "2  891815181378084864  https://pbs.twimg.com/media/DGBdLU1WsAANxJ9.jpg   \n",
       "3  891689557279858688  https://pbs.twimg.com/media/DF_q7IAWsAEuuN8.jpg   \n",
       "4  891327558926688256  https://pbs.twimg.com/media/DF6hr6BUMAAzZgT.jpg   \n",
       "5  891087950875897856  https://pbs.twimg.com/media/DF3HwyEWsAABqE6.jpg   \n",
       "\n",
       "   img_num                         p    p_conf  p_dog prediction_algorithm  \n",
       "1        1                 Chihuahua  0.323581   True                   p1  \n",
       "2        1                 Chihuahua  0.716012   True                   p1  \n",
       "3        1        Labrador_retriever  0.168086   True                   p2  \n",
       "4        2                    basset  0.555712   True                   p1  \n",
       "5        1  Chesapeake_Bay_retriever  0.425595   True                   p1  "
      ]
     },
     "execution_count": 44,
     "metadata": {},
     "output_type": "execute_result"
    }
   ],
   "source": [
    "dummy = dummy.sort_values('tweet_id', ascending=False)\n",
    "dummy.head(5)"
   ]
  },
  {
   "cell_type": "code",
   "execution_count": 45,
   "metadata": {},
   "outputs": [],
   "source": [
    "df_2_clean = dummy.copy()"
   ]
  },
  {
   "cell_type": "code",
   "execution_count": 46,
   "metadata": {},
   "outputs": [],
   "source": [
    "df_2_clean.drop(['p_dog'], axis=1, inplace=True)"
   ]
  },
  {
   "cell_type": "code",
   "execution_count": 47,
   "metadata": {},
   "outputs": [],
   "source": [
    "df_2_clean = df_2_clean.rename(columns={'p':'dog_breed','p_conf':'algorithm_conf'})"
   ]
  },
  {
   "cell_type": "markdown",
   "metadata": {},
   "source": [
    "#### Test"
   ]
  },
  {
   "cell_type": "code",
   "execution_count": 48,
   "metadata": {},
   "outputs": [
    {
     "data": {
      "text/html": [
       "<div>\n",
       "<style scoped>\n",
       "    .dataframe tbody tr th:only-of-type {\n",
       "        vertical-align: middle;\n",
       "    }\n",
       "\n",
       "    .dataframe tbody tr th {\n",
       "        vertical-align: top;\n",
       "    }\n",
       "\n",
       "    .dataframe thead th {\n",
       "        text-align: right;\n",
       "    }\n",
       "</style>\n",
       "<table border=\"1\" class=\"dataframe\">\n",
       "  <thead>\n",
       "    <tr style=\"text-align: right;\">\n",
       "      <th></th>\n",
       "      <th>tweet_id</th>\n",
       "      <th>jpg_url</th>\n",
       "      <th>img_num</th>\n",
       "      <th>dog_breed</th>\n",
       "      <th>algorithm_conf</th>\n",
       "      <th>prediction_algorithm</th>\n",
       "    </tr>\n",
       "  </thead>\n",
       "  <tbody>\n",
       "    <tr>\n",
       "      <th>1</th>\n",
       "      <td>892177421306343426</td>\n",
       "      <td>https://pbs.twimg.com/media/DGGmoV4XsAAUL6n.jpg</td>\n",
       "      <td>1</td>\n",
       "      <td>Chihuahua</td>\n",
       "      <td>0.323581</td>\n",
       "      <td>p1</td>\n",
       "    </tr>\n",
       "    <tr>\n",
       "      <th>2</th>\n",
       "      <td>891815181378084864</td>\n",
       "      <td>https://pbs.twimg.com/media/DGBdLU1WsAANxJ9.jpg</td>\n",
       "      <td>1</td>\n",
       "      <td>Chihuahua</td>\n",
       "      <td>0.716012</td>\n",
       "      <td>p1</td>\n",
       "    </tr>\n",
       "    <tr>\n",
       "      <th>3</th>\n",
       "      <td>891689557279858688</td>\n",
       "      <td>https://pbs.twimg.com/media/DF_q7IAWsAEuuN8.jpg</td>\n",
       "      <td>1</td>\n",
       "      <td>Labrador_retriever</td>\n",
       "      <td>0.168086</td>\n",
       "      <td>p2</td>\n",
       "    </tr>\n",
       "  </tbody>\n",
       "</table>\n",
       "</div>"
      ],
      "text/plain": [
       "             tweet_id                                          jpg_url  \\\n",
       "1  892177421306343426  https://pbs.twimg.com/media/DGGmoV4XsAAUL6n.jpg   \n",
       "2  891815181378084864  https://pbs.twimg.com/media/DGBdLU1WsAANxJ9.jpg   \n",
       "3  891689557279858688  https://pbs.twimg.com/media/DF_q7IAWsAEuuN8.jpg   \n",
       "\n",
       "   img_num           dog_breed  algorithm_conf prediction_algorithm  \n",
       "1        1           Chihuahua        0.323581                   p1  \n",
       "2        1           Chihuahua        0.716012                   p1  \n",
       "3        1  Labrador_retriever        0.168086                   p2  "
      ]
     },
     "execution_count": 48,
     "metadata": {},
     "output_type": "execute_result"
    }
   ],
   "source": [
    "df_2_clean.head(3)"
   ]
  },
  {
   "cell_type": "markdown",
   "metadata": {},
   "source": [
    "#### Define"
   ]
  },
  {
   "cell_type": "markdown",
   "metadata": {},
   "source": [
    "- 'in_reply_to_status_id' , 'in_reply_to_user_id' , 'retweeted_status_id' , 'retweeted_status_user_id' , 'retweeted_status_timestamp' in `df_1` table should be dropped as number of Nan values are too large and cannot be retrieved using pandas drop function"
   ]
  },
  {
   "cell_type": "markdown",
   "metadata": {},
   "source": [
    "#### code"
   ]
  },
  {
   "cell_type": "code",
   "execution_count": 49,
   "metadata": {},
   "outputs": [],
   "source": [
    "drop_list = ['in_reply_to_status_id','in_reply_to_user_id','retweeted_status_id','retweeted_status_user_id',\n",
    "             'retweeted_status_timestamp']"
   ]
  },
  {
   "cell_type": "code",
   "execution_count": 50,
   "metadata": {},
   "outputs": [],
   "source": [
    "df_1_clean.drop(drop_list, axis=1, inplace=True)"
   ]
  },
  {
   "cell_type": "markdown",
   "metadata": {},
   "source": [
    "#### Test"
   ]
  },
  {
   "cell_type": "code",
   "execution_count": 51,
   "metadata": {},
   "outputs": [
    {
     "name": "stdout",
     "output_type": "stream",
     "text": [
      "<class 'pandas.core.frame.DataFrame'>\n",
      "Int64Index: 1304 entries, 1 to 1991\n",
      "Data columns (total 12 columns):\n",
      " #   Column              Non-Null Count  Dtype \n",
      "---  ------              --------------  ----- \n",
      " 0   tweet_id            1304 non-null   int64 \n",
      " 1   timestamp           1304 non-null   object\n",
      " 2   source              1304 non-null   object\n",
      " 3   text                1304 non-null   object\n",
      " 4   expanded_urls       1304 non-null   object\n",
      " 5   rating_numerator    1304 non-null   int64 \n",
      " 6   rating_denominator  1304 non-null   int64 \n",
      " 7   name                1304 non-null   object\n",
      " 8   doggo               1304 non-null   object\n",
      " 9   floofer             1304 non-null   object\n",
      " 10  pupper              1304 non-null   object\n",
      " 11  puppo               1304 non-null   object\n",
      "dtypes: int64(3), object(9)\n",
      "memory usage: 132.4+ KB\n"
     ]
    }
   ],
   "source": [
    "df_1_clean.info()"
   ]
  },
  {
   "cell_type": "code",
   "execution_count": 52,
   "metadata": {},
   "outputs": [
    {
     "name": "stdout",
     "output_type": "stream",
     "text": [
      "0\n",
      "0\n",
      "0\n"
     ]
    }
   ],
   "source": [
    "print(sum(df_1_clean.duplicated()))\n",
    "print(sum(df_2_clean.duplicated()))\n",
    "print(sum(df_3_clean.duplicated()))"
   ]
  },
  {
   "cell_type": "markdown",
   "metadata": {},
   "source": [
    "#### Define"
   ]
  },
  {
   "cell_type": "markdown",
   "metadata": {},
   "source": [
    "- five variables in four columns in `df_1` table (doggo, floofer, pupper, puppo and None), we will create one column for stages by extract each stage alone then combine them in column represents all stages"
   ]
  },
  {
   "cell_type": "markdown",
   "metadata": {},
   "source": [
    "#### Code"
   ]
  },
  {
   "cell_type": "code",
   "execution_count": 53,
   "metadata": {},
   "outputs": [],
   "source": [
    "df_1_woof = df_1_clean[ df_1_clean.text.str.contains('woof', case=False) & \\\n",
    "           (~ df_1_clean.text.str.contains('pup|pupper|puppo|floofer|doggo', case=False)) ].copy()"
   ]
  },
  {
   "cell_type": "code",
   "execution_count": 54,
   "metadata": {},
   "outputs": [],
   "source": [
    "df_1_doggo = df_1_clean[ df_1_clean.text.str.contains('doggo', case=False) & \\\n",
    "           (~ df_1_clean.text.str.contains('pup|pupper|puppo|floofer|woof', case=False)) ].copy()"
   ]
  },
  {
   "cell_type": "code",
   "execution_count": 55,
   "metadata": {},
   "outputs": [],
   "source": [
    "df_1_floofer = df_1_clean[ df_1_clean.text.str.contains('floofer', case=False) & \\\n",
    "           (~ df_1_clean.text.str.contains('pup|pupper|puppo|woof', case=False)) ].copy()"
   ]
  },
  {
   "cell_type": "code",
   "execution_count": 56,
   "metadata": {},
   "outputs": [],
   "source": [
    "df_1_pup = df_1_clean[ df_1_clean.text.str.contains('pup|pupper|puppo', case=False)].copy()"
   ]
  },
  {
   "cell_type": "code",
   "execution_count": 57,
   "metadata": {},
   "outputs": [],
   "source": [
    "df_1_unclassified = df_1_clean[~ df_1_clean.text.str.contains('pup|pupper|puppo|floofer|woof|doggo', case=False)].copy()"
   ]
  },
  {
   "cell_type": "code",
   "execution_count": 58,
   "metadata": {},
   "outputs": [],
   "source": [
    "df_1_unclassified['stage'] = 'unclassified'\n",
    "df_1_woof['stage'] = 'woof'\n",
    "df_1_doggo['stage'] = 'doggo'\n",
    "df_1_floofer['stage'] = 'floofer'\n",
    "df_1_pup['stage'] = 'pup'"
   ]
  },
  {
   "cell_type": "code",
   "execution_count": 59,
   "metadata": {},
   "outputs": [],
   "source": [
    "df_1_clean = pd.concat([df_1_unclassified, df_1_woof, df_1_doggo, df_1_floofer, df_1_pup])\n",
    "df_1_clean.drop(['doggo', 'floofer', 'pupper', 'puppo'], axis=1, inplace=True)\n",
    "df_1_clean = df_1_clean.sort_values('tweet_id', ascending=False)"
   ]
  },
  {
   "cell_type": "markdown",
   "metadata": {},
   "source": [
    "#### Test"
   ]
  },
  {
   "cell_type": "code",
   "execution_count": 60,
   "metadata": {},
   "outputs": [
    {
     "name": "stdout",
     "output_type": "stream",
     "text": [
      "unclassified     908\n",
      "pup              346\n",
      "doggo            41\n",
      "floofer          5\n",
      "woof             4\n"
     ]
    }
   ],
   "source": [
    "print('unclassified    ', df_1_unclassified.shape[0])\n",
    "print('pup             ',df_1_pup.shape[0])\n",
    "print('doggo           ',df_1_doggo.shape[0])\n",
    "print('floofer         ',df_1_floofer.shape[0])\n",
    "print('woof            ',df_1_woof.shape[0])"
   ]
  },
  {
   "cell_type": "code",
   "execution_count": 61,
   "metadata": {},
   "outputs": [
    {
     "data": {
      "text/plain": [
       "unclassified    908\n",
       "pup             346\n",
       "doggo            41\n",
       "floofer           5\n",
       "woof              4\n",
       "Name: stage, dtype: int64"
      ]
     },
     "execution_count": 61,
     "metadata": {},
     "output_type": "execute_result"
    }
   ],
   "source": [
    "df_1_clean.stage.value_counts()"
   ]
  },
  {
   "cell_type": "code",
   "execution_count": 62,
   "metadata": {},
   "outputs": [
    {
     "data": {
      "text/plain": [
       "'This is Leonidas. He just got rekt by a snowball. 9/10 doggy down https://t.co/uNrmYDUa9M'"
      ]
     },
     "execution_count": 62,
     "metadata": {},
     "output_type": "execute_result"
    }
   ],
   "source": [
    "df_1_clean.text[1990]"
   ]
  },
  {
   "cell_type": "markdown",
   "metadata": {},
   "source": [
    "#### Define"
   ]
  },
  {
   "cell_type": "markdown",
   "metadata": {},
   "source": [
    "- reset index for all tables"
   ]
  },
  {
   "cell_type": "markdown",
   "metadata": {},
   "source": [
    "#### Code"
   ]
  },
  {
   "cell_type": "code",
   "execution_count": 63,
   "metadata": {},
   "outputs": [],
   "source": [
    "df_1_clean.reset_index(drop=True, inplace=True)\n",
    "df_2_clean.reset_index(drop=True, inplace=True)\n",
    "df_3_clean.reset_index(drop=True, inplace=True)"
   ]
  },
  {
   "cell_type": "markdown",
   "metadata": {},
   "source": [
    "#### Test"
   ]
  },
  {
   "cell_type": "code",
   "execution_count": 64,
   "metadata": {},
   "outputs": [
    {
     "name": "stdout",
     "output_type": "stream",
     "text": [
      "1304\n",
      "1304\n",
      "1304\n"
     ]
    }
   ],
   "source": [
    "print(df_1_clean.shape[0])\n",
    "print(df_2_clean.shape[0])\n",
    "print(df_3_clean.shape[0])"
   ]
  },
  {
   "cell_type": "code",
   "execution_count": 65,
   "metadata": {},
   "outputs": [
    {
     "name": "stdout",
     "output_type": "stream",
     "text": [
      "892177421306343426\n",
      "892177421306343426\n",
      "892177421306343426\n"
     ]
    }
   ],
   "source": [
    "print(df_1_clean.tweet_id[0])\n",
    "print(df_2_clean.tweet_id[0])\n",
    "print(df_3_clean.tweet_id[0])"
   ]
  },
  {
   "cell_type": "markdown",
   "metadata": {},
   "source": [
    "## Reassess and Re-Clean"
   ]
  },
  {
   "cell_type": "markdown",
   "metadata": {},
   "source": [
    "#### Define"
   ]
  },
  {
   "cell_type": "markdown",
   "metadata": {},
   "source": [
    "- some rating_numerator values have decimal part inside text column but these values appear as integer without decimal part in rating_numerator. so, we will extract the full rating from text column in new full_rating column, then extract rating_numerator and assign these values in rating_numerator column."
   ]
  },
  {
   "cell_type": "code",
   "execution_count": 66,
   "metadata": {},
   "outputs": [
    {
     "name": "stderr",
     "output_type": "stream",
     "text": [
      "C:\\Users\\El Zahraa\\anaconda3\\lib\\site-packages\\pandas\\core\\strings.py:1952: UserWarning: This pattern has match groups. To actually get the groups, use str.extract.\n",
      "  return func(self, *args, **kwargs)\n"
     ]
    },
    {
     "data": {
      "text/plain": [
       "37      ring you her favorite monkey. 13.5/10 https://...\n",
       "489     od. H*ckin magical af 9.75/10 https://t.co/yBO...\n",
       "538      random just to smile at the locals. 11.27/10 ...\n",
       "1090                      1.26/10 https://t.co/eNm2S6p9BD\n",
       "Name: text, dtype: object"
      ]
     },
     "execution_count": 66,
     "metadata": {},
     "output_type": "execute_result"
    }
   ],
   "source": [
    "df_1_clean[df_1_clean.text.str.contains(\"(\\d+\\.\\d*\\/\\d+)\")].text.str[75:]"
   ]
  },
  {
   "cell_type": "markdown",
   "metadata": {},
   "source": [
    "#### Code"
   ]
  },
  {
   "cell_type": "code",
   "execution_count": 67,
   "metadata": {},
   "outputs": [],
   "source": [
    "df_1_clean['full_rating'] = df_1_clean.text.str.extract(\"(\\d+?\\.?\\d*\\/\\d+)\")\n",
    "df_1_clean['rating_numerator'] = df_1_clean.full_rating.apply(lambda x: x.split('/')[0]).astype('float')"
   ]
  },
  {
   "cell_type": "markdown",
   "metadata": {},
   "source": [
    "#### Test"
   ]
  },
  {
   "cell_type": "code",
   "execution_count": 68,
   "metadata": {},
   "outputs": [
    {
     "data": {
      "text/plain": [
       "'13.5/10'"
      ]
     },
     "execution_count": 68,
     "metadata": {},
     "output_type": "execute_result"
    }
   ],
   "source": [
    "df_1_clean['full_rating'][37]"
   ]
  },
  {
   "cell_type": "code",
   "execution_count": 69,
   "metadata": {},
   "outputs": [
    {
     "data": {
      "text/plain": [
       "13.5"
      ]
     },
     "execution_count": 69,
     "metadata": {},
     "output_type": "execute_result"
    }
   ],
   "source": [
    "df_1_clean['rating_numerator'][37]"
   ]
  },
  {
   "cell_type": "code",
   "execution_count": 70,
   "metadata": {},
   "outputs": [
    {
     "name": "stdout",
     "output_type": "stream",
     "text": [
      "<class 'pandas.core.frame.DataFrame'>\n",
      "RangeIndex: 1304 entries, 0 to 1303\n",
      "Data columns (total 10 columns):\n",
      " #   Column              Non-Null Count  Dtype  \n",
      "---  ------              --------------  -----  \n",
      " 0   tweet_id            1304 non-null   int64  \n",
      " 1   timestamp           1304 non-null   object \n",
      " 2   source              1304 non-null   object \n",
      " 3   text                1304 non-null   object \n",
      " 4   expanded_urls       1304 non-null   object \n",
      " 5   rating_numerator    1304 non-null   float64\n",
      " 6   rating_denominator  1304 non-null   int64  \n",
      " 7   name                1304 non-null   object \n",
      " 8   stage               1304 non-null   object \n",
      " 9   full_rating         1304 non-null   object \n",
      "dtypes: float64(1), int64(2), object(7)\n",
      "memory usage: 102.0+ KB\n"
     ]
    }
   ],
   "source": [
    "df_1_clean.info()"
   ]
  },
  {
   "cell_type": "markdown",
   "metadata": {},
   "source": [
    "#### Define"
   ]
  },
  {
   "cell_type": "markdown",
   "metadata": {},
   "source": [
    "- fix rating_numerator and rating_denominator columns: 99/90 = 11/10, 143/130 = 11/10 and so on"
   ]
  },
  {
   "cell_type": "markdown",
   "metadata": {},
   "source": [
    "#### code"
   ]
  },
  {
   "cell_type": "code",
   "execution_count": 71,
   "metadata": {},
   "outputs": [
    {
     "data": {
      "text/plain": [
       "12/10       382\n",
       "11/10       277\n",
       "10/10       230\n",
       "13/10       221\n",
       "9/10         83\n",
       "8/10         33\n",
       "14/10        25\n",
       "7/10         13\n",
       "5/10          7\n",
       "6/10          7\n",
       "3/10          4\n",
       "4/10          2\n",
       "45/50         1\n",
       "88/80         1\n",
       "44/40         1\n",
       "9.75/10       1\n",
       "11.27/10      1\n",
       "4/20          1\n",
       "84/70         1\n",
       "143/130       1\n",
       "50/50         1\n",
       "24/7          1\n",
       "11.26/10      1\n",
       "144/120       1\n",
       "13.5/10       1\n",
       "80/80         1\n",
       "99/90         1\n",
       "121/110       1\n",
       "2/10          1\n",
       "0/10          1\n",
       "60/50         1\n",
       "7/11          1\n",
       "Name: full_rating, dtype: int64"
      ]
     },
     "execution_count": 71,
     "metadata": {},
     "output_type": "execute_result"
    }
   ],
   "source": [
    "df_1_clean['full_rating'].value_counts()"
   ]
  },
  {
   "cell_type": "code",
   "execution_count": 72,
   "metadata": {},
   "outputs": [],
   "source": [
    "df_1_clean.rating_denominator.replace([20,40,50,70,80,90,110,120,130], 10, inplace=True)"
   ]
  },
  {
   "cell_type": "code",
   "execution_count": 73,
   "metadata": {},
   "outputs": [],
   "source": [
    "change = {2:4, 9:45, 10:[50,80], 11:[44,88,99,121,143], 12:[60,84,144]}"
   ]
  },
  {
   "cell_type": "code",
   "execution_count": 74,
   "metadata": {},
   "outputs": [],
   "source": [
    "for x in change.keys():\n",
    "    df_1_clean.rating_numerator.replace(change[x], x, inplace=True)"
   ]
  },
  {
   "cell_type": "markdown",
   "metadata": {},
   "source": [
    "#### Test"
   ]
  },
  {
   "cell_type": "code",
   "execution_count": 75,
   "metadata": {},
   "outputs": [
    {
     "data": {
      "text/plain": [
       "12.0/10     385\n",
       "11.0/10     282\n",
       "10.0/10     232\n",
       "13.0/10     221\n",
       "9.0/10       84\n",
       "8.0/10       33\n",
       "14.0/10      25\n",
       "7.0/10       13\n",
       "5.0/10        7\n",
       "6.0/10        7\n",
       "3.0/10        4\n",
       "2.0/10        4\n",
       "24.0/7        1\n",
       "7.0/11        1\n",
       "11.26/10      1\n",
       "13.5/10       1\n",
       "9.75/10       1\n",
       "11.27/10      1\n",
       "0.0/10        1\n",
       "dtype: int64"
      ]
     },
     "execution_count": 75,
     "metadata": {},
     "output_type": "execute_result"
    }
   ],
   "source": [
    "(df_1_clean.rating_numerator.astype('str') + '/' + df_1_clean.rating_denominator.astype('str')).value_counts()"
   ]
  },
  {
   "cell_type": "markdown",
   "metadata": {},
   "source": [
    "## Reassess and Re-Clean"
   ]
  },
  {
   "cell_type": "code",
   "execution_count": 76,
   "metadata": {},
   "outputs": [
    {
     "data": {
      "text/html": [
       "<div>\n",
       "<style scoped>\n",
       "    .dataframe tbody tr th:only-of-type {\n",
       "        vertical-align: middle;\n",
       "    }\n",
       "\n",
       "    .dataframe tbody tr th {\n",
       "        vertical-align: top;\n",
       "    }\n",
       "\n",
       "    .dataframe thead th {\n",
       "        text-align: right;\n",
       "    }\n",
       "</style>\n",
       "<table border=\"1\" class=\"dataframe\">\n",
       "  <thead>\n",
       "    <tr style=\"text-align: right;\">\n",
       "      <th></th>\n",
       "      <th>tweet_id</th>\n",
       "      <th>timestamp</th>\n",
       "      <th>source</th>\n",
       "      <th>text</th>\n",
       "      <th>expanded_urls</th>\n",
       "      <th>rating_numerator</th>\n",
       "      <th>rating_denominator</th>\n",
       "      <th>name</th>\n",
       "      <th>stage</th>\n",
       "      <th>full_rating</th>\n",
       "    </tr>\n",
       "  </thead>\n",
       "  <tbody>\n",
       "    <tr>\n",
       "      <th>361</th>\n",
       "      <td>810984652412424192</td>\n",
       "      <td>2016-12-19 23:06:23 +0000</td>\n",
       "      <td>&lt;a href=\"http://twitter.com/download/iphone\" r...</td>\n",
       "      <td>Meet Sam. She smiles 24/7 &amp;amp; secretly aspir...</td>\n",
       "      <td>https://www.gofundme.com/sams-smile,https://tw...</td>\n",
       "      <td>24.0</td>\n",
       "      <td>7</td>\n",
       "      <td>Sam</td>\n",
       "      <td>unclassified</td>\n",
       "      <td>24/7</td>\n",
       "    </tr>\n",
       "    <tr>\n",
       "      <th>1056</th>\n",
       "      <td>682962037429899265</td>\n",
       "      <td>2016-01-01 16:30:13 +0000</td>\n",
       "      <td>&lt;a href=\"http://twitter.com/download/iphone\" r...</td>\n",
       "      <td>This is Darrel. He just robbed a 7/11 and is i...</td>\n",
       "      <td>https://twitter.com/dog_rates/status/682962037...</td>\n",
       "      <td>7.0</td>\n",
       "      <td>11</td>\n",
       "      <td>Darrel</td>\n",
       "      <td>unclassified</td>\n",
       "      <td>7/11</td>\n",
       "    </tr>\n",
       "  </tbody>\n",
       "</table>\n",
       "</div>"
      ],
      "text/plain": [
       "                tweet_id                  timestamp  \\\n",
       "361   810984652412424192  2016-12-19 23:06:23 +0000   \n",
       "1056  682962037429899265  2016-01-01 16:30:13 +0000   \n",
       "\n",
       "                                                 source  \\\n",
       "361   <a href=\"http://twitter.com/download/iphone\" r...   \n",
       "1056  <a href=\"http://twitter.com/download/iphone\" r...   \n",
       "\n",
       "                                                   text  \\\n",
       "361   Meet Sam. She smiles 24/7 &amp; secretly aspir...   \n",
       "1056  This is Darrel. He just robbed a 7/11 and is i...   \n",
       "\n",
       "                                          expanded_urls  rating_numerator  \\\n",
       "361   https://www.gofundme.com/sams-smile,https://tw...              24.0   \n",
       "1056  https://twitter.com/dog_rates/status/682962037...               7.0   \n",
       "\n",
       "      rating_denominator    name         stage full_rating  \n",
       "361                    7     Sam  unclassified        24/7  \n",
       "1056                  11  Darrel  unclassified        7/11  "
      ]
     },
     "execution_count": 76,
     "metadata": {},
     "output_type": "execute_result"
    }
   ],
   "source": [
    "df_1_clean[ (df_1_clean.index == 361) | (df_1_clean.index == 1056) ]"
   ]
  },
  {
   "cell_type": "markdown",
   "metadata": {},
   "source": [
    "#### Define"
   ]
  },
  {
   "cell_type": "markdown",
   "metadata": {},
   "source": [
    "- more fix in rating_numerator and rating_denominator columns: 7/11 ~ 7/10 and 24/7 ~ 34/10"
   ]
  },
  {
   "cell_type": "markdown",
   "metadata": {},
   "source": [
    "#### Code"
   ]
  },
  {
   "cell_type": "code",
   "execution_count": 77,
   "metadata": {},
   "outputs": [],
   "source": [
    "df_1_clean.rating_numerator.replace(24, 34, inplace=True)\n",
    "df_1_clean.rating_denominator.replace({11:10, 7:10}, inplace=True)"
   ]
  },
  {
   "cell_type": "markdown",
   "metadata": {},
   "source": [
    "#### Test"
   ]
  },
  {
   "cell_type": "code",
   "execution_count": 78,
   "metadata": {},
   "outputs": [
    {
     "data": {
      "text/html": [
       "<div>\n",
       "<style scoped>\n",
       "    .dataframe tbody tr th:only-of-type {\n",
       "        vertical-align: middle;\n",
       "    }\n",
       "\n",
       "    .dataframe tbody tr th {\n",
       "        vertical-align: top;\n",
       "    }\n",
       "\n",
       "    .dataframe thead th {\n",
       "        text-align: right;\n",
       "    }\n",
       "</style>\n",
       "<table border=\"1\" class=\"dataframe\">\n",
       "  <thead>\n",
       "    <tr style=\"text-align: right;\">\n",
       "      <th></th>\n",
       "      <th>tweet_id</th>\n",
       "      <th>timestamp</th>\n",
       "      <th>source</th>\n",
       "      <th>text</th>\n",
       "      <th>expanded_urls</th>\n",
       "      <th>rating_numerator</th>\n",
       "      <th>rating_denominator</th>\n",
       "      <th>name</th>\n",
       "      <th>stage</th>\n",
       "      <th>full_rating</th>\n",
       "    </tr>\n",
       "  </thead>\n",
       "  <tbody>\n",
       "    <tr>\n",
       "      <th>361</th>\n",
       "      <td>810984652412424192</td>\n",
       "      <td>2016-12-19 23:06:23 +0000</td>\n",
       "      <td>&lt;a href=\"http://twitter.com/download/iphone\" r...</td>\n",
       "      <td>Meet Sam. She smiles 24/7 &amp;amp; secretly aspir...</td>\n",
       "      <td>https://www.gofundme.com/sams-smile,https://tw...</td>\n",
       "      <td>34.0</td>\n",
       "      <td>10</td>\n",
       "      <td>Sam</td>\n",
       "      <td>unclassified</td>\n",
       "      <td>24/7</td>\n",
       "    </tr>\n",
       "    <tr>\n",
       "      <th>1056</th>\n",
       "      <td>682962037429899265</td>\n",
       "      <td>2016-01-01 16:30:13 +0000</td>\n",
       "      <td>&lt;a href=\"http://twitter.com/download/iphone\" r...</td>\n",
       "      <td>This is Darrel. He just robbed a 7/11 and is i...</td>\n",
       "      <td>https://twitter.com/dog_rates/status/682962037...</td>\n",
       "      <td>7.0</td>\n",
       "      <td>10</td>\n",
       "      <td>Darrel</td>\n",
       "      <td>unclassified</td>\n",
       "      <td>7/11</td>\n",
       "    </tr>\n",
       "  </tbody>\n",
       "</table>\n",
       "</div>"
      ],
      "text/plain": [
       "                tweet_id                  timestamp  \\\n",
       "361   810984652412424192  2016-12-19 23:06:23 +0000   \n",
       "1056  682962037429899265  2016-01-01 16:30:13 +0000   \n",
       "\n",
       "                                                 source  \\\n",
       "361   <a href=\"http://twitter.com/download/iphone\" r...   \n",
       "1056  <a href=\"http://twitter.com/download/iphone\" r...   \n",
       "\n",
       "                                                   text  \\\n",
       "361   Meet Sam. She smiles 24/7 &amp; secretly aspir...   \n",
       "1056  This is Darrel. He just robbed a 7/11 and is i...   \n",
       "\n",
       "                                          expanded_urls  rating_numerator  \\\n",
       "361   https://www.gofundme.com/sams-smile,https://tw...              34.0   \n",
       "1056  https://twitter.com/dog_rates/status/682962037...               7.0   \n",
       "\n",
       "      rating_denominator    name         stage full_rating  \n",
       "361                   10     Sam  unclassified        24/7  \n",
       "1056                  10  Darrel  unclassified        7/11  "
      ]
     },
     "execution_count": 78,
     "metadata": {},
     "output_type": "execute_result"
    }
   ],
   "source": [
    "df_1_clean[ (df_1_clean.index == 361) | (df_1_clean.index == 1056) ]"
   ]
  },
  {
   "cell_type": "code",
   "execution_count": 79,
   "metadata": {},
   "outputs": [
    {
     "data": {
      "text/plain": [
       "12.0/10     385\n",
       "11.0/10     282\n",
       "10.0/10     232\n",
       "13.0/10     221\n",
       "9.0/10       84\n",
       "8.0/10       33\n",
       "14.0/10      25\n",
       "7.0/10       14\n",
       "6.0/10        7\n",
       "5.0/10        7\n",
       "2.0/10        4\n",
       "3.0/10        4\n",
       "0.0/10        1\n",
       "11.26/10      1\n",
       "9.75/10       1\n",
       "13.5/10       1\n",
       "34.0/10       1\n",
       "11.27/10      1\n",
       "dtype: int64"
      ]
     },
     "execution_count": 79,
     "metadata": {},
     "output_type": "execute_result"
    }
   ],
   "source": [
    "(df_1_clean.rating_numerator.astype('str') + '/' + df_1_clean.rating_denominator.astype('str')).value_counts()"
   ]
  },
  {
   "cell_type": "markdown",
   "metadata": {},
   "source": [
    "#### Define\n",
    "- column full_rating after fixing all issues"
   ]
  },
  {
   "cell_type": "markdown",
   "metadata": {},
   "source": [
    "#### Code"
   ]
  },
  {
   "cell_type": "code",
   "execution_count": 80,
   "metadata": {},
   "outputs": [],
   "source": [
    "df_1_clean.full_rating = df_1_clean.rating_numerator.astype('str') + '/' + df_1_clean.rating_denominator.astype('str')"
   ]
  },
  {
   "cell_type": "code",
   "execution_count": 81,
   "metadata": {},
   "outputs": [
    {
     "data": {
      "text/plain": [
       "12.0/10     385\n",
       "11.0/10     282\n",
       "10.0/10     232\n",
       "13.0/10     221\n",
       "9.0/10       84\n",
       "8.0/10       33\n",
       "14.0/10      25\n",
       "7.0/10       14\n",
       "6.0/10        7\n",
       "5.0/10        7\n",
       "2.0/10        4\n",
       "3.0/10        4\n",
       "0.0/10        1\n",
       "11.26/10      1\n",
       "9.75/10       1\n",
       "13.5/10       1\n",
       "34.0/10       1\n",
       "11.27/10      1\n",
       "Name: full_rating, dtype: int64"
      ]
     },
     "execution_count": 81,
     "metadata": {},
     "output_type": "execute_result"
    }
   ],
   "source": [
    "df_1_clean.full_rating.value_counts()"
   ]
  },
  {
   "cell_type": "code",
   "execution_count": 82,
   "metadata": {},
   "outputs": [],
   "source": [
    "df_1_clean.full_rating.replace({'0.0/10':'0/10','2.0/10':'2/10','3.0/10':'3/10','5.0/10':'5/10','6.0/10':'6/10','7.0/10':'7/10',\n",
    "                                '8.0/10':'8/10','9.0/10':'9/10','10.0/10':'10/10','11.0/10':'11/10','12.0/10':'12/10',\n",
    "                                '13.0/10':'13/10','14.0/10':'14/10'}, inplace=True)"
   ]
  },
  {
   "cell_type": "markdown",
   "metadata": {},
   "source": [
    "#### Test"
   ]
  },
  {
   "cell_type": "code",
   "execution_count": 83,
   "metadata": {},
   "outputs": [
    {
     "data": {
      "text/plain": [
       "12/10       385\n",
       "11/10       282\n",
       "10/10       232\n",
       "13/10       221\n",
       "9/10         84\n",
       "8/10         33\n",
       "14/10        25\n",
       "7/10         14\n",
       "6/10          7\n",
       "5/10          7\n",
       "2/10          4\n",
       "3/10          4\n",
       "9.75/10       1\n",
       "34.0/10       1\n",
       "13.5/10       1\n",
       "11.26/10      1\n",
       "0/10          1\n",
       "11.27/10      1\n",
       "Name: full_rating, dtype: int64"
      ]
     },
     "execution_count": 83,
     "metadata": {},
     "output_type": "execute_result"
    }
   ],
   "source": [
    "df_1_clean.full_rating.value_counts()"
   ]
  },
  {
   "cell_type": "markdown",
   "metadata": {},
   "source": [
    "#### Define"
   ]
  },
  {
   "cell_type": "markdown",
   "metadata": {},
   "source": [
    "- drop rating_denominator column as all values are set to 10 so we don't need that column"
   ]
  },
  {
   "cell_type": "markdown",
   "metadata": {},
   "source": [
    "#### Code"
   ]
  },
  {
   "cell_type": "code",
   "execution_count": 84,
   "metadata": {},
   "outputs": [
    {
     "data": {
      "text/plain": [
       "array([10], dtype=int64)"
      ]
     },
     "execution_count": 84,
     "metadata": {},
     "output_type": "execute_result"
    }
   ],
   "source": [
    "df_1_clean.rating_denominator.unique()"
   ]
  },
  {
   "cell_type": "code",
   "execution_count": 85,
   "metadata": {},
   "outputs": [],
   "source": [
    "df_1_clean.drop(['rating_denominator'],  axis=1, inplace=True)"
   ]
  },
  {
   "cell_type": "markdown",
   "metadata": {},
   "source": [
    "#### Test"
   ]
  },
  {
   "cell_type": "code",
   "execution_count": 86,
   "metadata": {},
   "outputs": [
    {
     "name": "stdout",
     "output_type": "stream",
     "text": [
      "<class 'pandas.core.frame.DataFrame'>\n",
      "RangeIndex: 1304 entries, 0 to 1303\n",
      "Data columns (total 9 columns):\n",
      " #   Column            Non-Null Count  Dtype  \n",
      "---  ------            --------------  -----  \n",
      " 0   tweet_id          1304 non-null   int64  \n",
      " 1   timestamp         1304 non-null   object \n",
      " 2   source            1304 non-null   object \n",
      " 3   text              1304 non-null   object \n",
      " 4   expanded_urls     1304 non-null   object \n",
      " 5   rating_numerator  1304 non-null   float64\n",
      " 6   name              1304 non-null   object \n",
      " 7   stage             1304 non-null   object \n",
      " 8   full_rating       1304 non-null   object \n",
      "dtypes: float64(1), int64(1), object(7)\n",
      "memory usage: 91.8+ KB\n"
     ]
    }
   ],
   "source": [
    "df_1_clean.info()"
   ]
  },
  {
   "cell_type": "markdown",
   "metadata": {},
   "source": [
    "#### Define"
   ]
  },
  {
   "cell_type": "markdown",
   "metadata": {},
   "source": [
    "- check source column in `df_1` for categorical values"
   ]
  },
  {
   "cell_type": "markdown",
   "metadata": {},
   "source": [
    "#### Code"
   ]
  },
  {
   "cell_type": "code",
   "execution_count": 87,
   "metadata": {},
   "outputs": [
    {
     "data": {
      "text/plain": [
       "'<a href=\"http://twitter.com/download/iphone\" rel=\"nofollow\">Twitter for iPhone</a>'"
      ]
     },
     "execution_count": 87,
     "metadata": {},
     "output_type": "execute_result"
    }
   ],
   "source": [
    "df_1_clean.source[0]  #str.split('>')[0][1][:-3]"
   ]
  },
  {
   "cell_type": "code",
   "execution_count": 88,
   "metadata": {},
   "outputs": [
    {
     "data": {
      "text/html": [
       "<div>\n",
       "<style scoped>\n",
       "    .dataframe tbody tr th:only-of-type {\n",
       "        vertical-align: middle;\n",
       "    }\n",
       "\n",
       "    .dataframe tbody tr th {\n",
       "        vertical-align: top;\n",
       "    }\n",
       "\n",
       "    .dataframe thead th {\n",
       "        text-align: right;\n",
       "    }\n",
       "</style>\n",
       "<table border=\"1\" class=\"dataframe\">\n",
       "  <thead>\n",
       "    <tr style=\"text-align: right;\">\n",
       "      <th></th>\n",
       "      <th>source</th>\n",
       "    </tr>\n",
       "  </thead>\n",
       "  <tbody>\n",
       "    <tr>\n",
       "      <th>Twitter for iPhone</th>\n",
       "      <td>1297</td>\n",
       "    </tr>\n",
       "    <tr>\n",
       "      <th>Twitter Web Client</th>\n",
       "      <td>5</td>\n",
       "    </tr>\n",
       "    <tr>\n",
       "      <th>TweetDeck</th>\n",
       "      <td>2</td>\n",
       "    </tr>\n",
       "  </tbody>\n",
       "</table>\n",
       "</div>"
      ],
      "text/plain": [
       "                    source\n",
       "Twitter for iPhone    1297\n",
       "Twitter Web Client       5\n",
       "TweetDeck                2"
      ]
     },
     "execution_count": 88,
     "metadata": {},
     "output_type": "execute_result"
    }
   ],
   "source": [
    "df_1_clean.source.apply(lambda x: x.split('>')[1][:-3]).value_counts().to_frame()"
   ]
  },
  {
   "cell_type": "markdown",
   "metadata": {},
   "source": [
    "- as 'twitter for iphone' is the dominant category in source column, we can drop this column as it won't have influence in our analysis later"
   ]
  },
  {
   "cell_type": "code",
   "execution_count": 89,
   "metadata": {},
   "outputs": [],
   "source": [
    "df_1_clean.drop(['source'], axis=1, inplace=True)"
   ]
  },
  {
   "cell_type": "markdown",
   "metadata": {},
   "source": [
    "#### Test"
   ]
  },
  {
   "cell_type": "code",
   "execution_count": 90,
   "metadata": {
    "scrolled": true
   },
   "outputs": [
    {
     "name": "stdout",
     "output_type": "stream",
     "text": [
      "<class 'pandas.core.frame.DataFrame'>\n",
      "RangeIndex: 1304 entries, 0 to 1303\n",
      "Data columns (total 8 columns):\n",
      " #   Column            Non-Null Count  Dtype  \n",
      "---  ------            --------------  -----  \n",
      " 0   tweet_id          1304 non-null   int64  \n",
      " 1   timestamp         1304 non-null   object \n",
      " 2   text              1304 non-null   object \n",
      " 3   expanded_urls     1304 non-null   object \n",
      " 4   rating_numerator  1304 non-null   float64\n",
      " 5   name              1304 non-null   object \n",
      " 6   stage             1304 non-null   object \n",
      " 7   full_rating       1304 non-null   object \n",
      "dtypes: float64(1), int64(1), object(6)\n",
      "memory usage: 81.6+ KB\n"
     ]
    }
   ],
   "source": [
    "df_1_clean.info()"
   ]
  },
  {
   "cell_type": "markdown",
   "metadata": {},
   "source": [
    "#### Define"
   ]
  },
  {
   "cell_type": "markdown",
   "metadata": {},
   "source": [
    "- `df_1_clean`, `df_2_clean` and `df_3_clean` will be merged together in one dataframe `df_final` and stored in `twitter_archive_master.csv`"
   ]
  },
  {
   "cell_type": "markdown",
   "metadata": {},
   "source": [
    "#### Code"
   ]
  },
  {
   "cell_type": "code",
   "execution_count": 91,
   "metadata": {},
   "outputs": [],
   "source": [
    "from functools import reduce\n",
    "\n",
    "dfs = [df_1_clean, df_2_clean, df_3_clean]"
   ]
  },
  {
   "cell_type": "code",
   "execution_count": 92,
   "metadata": {},
   "outputs": [],
   "source": [
    "df_final = reduce(lambda left,right: pd.merge(left,right,on='tweet_id'), dfs)"
   ]
  },
  {
   "cell_type": "markdown",
   "metadata": {},
   "source": [
    "#### Test"
   ]
  },
  {
   "cell_type": "code",
   "execution_count": 93,
   "metadata": {},
   "outputs": [
    {
     "data": {
      "text/html": [
       "<div>\n",
       "<style scoped>\n",
       "    .dataframe tbody tr th:only-of-type {\n",
       "        vertical-align: middle;\n",
       "    }\n",
       "\n",
       "    .dataframe tbody tr th {\n",
       "        vertical-align: top;\n",
       "    }\n",
       "\n",
       "    .dataframe thead th {\n",
       "        text-align: right;\n",
       "    }\n",
       "</style>\n",
       "<table border=\"1\" class=\"dataframe\">\n",
       "  <thead>\n",
       "    <tr style=\"text-align: right;\">\n",
       "      <th></th>\n",
       "      <th>tweet_id</th>\n",
       "      <th>timestamp</th>\n",
       "      <th>text</th>\n",
       "      <th>expanded_urls</th>\n",
       "      <th>rating_numerator</th>\n",
       "      <th>name</th>\n",
       "      <th>stage</th>\n",
       "      <th>full_rating</th>\n",
       "      <th>jpg_url</th>\n",
       "      <th>img_num</th>\n",
       "      <th>dog_breed</th>\n",
       "      <th>algorithm_conf</th>\n",
       "      <th>prediction_algorithm</th>\n",
       "      <th>retweet_count</th>\n",
       "      <th>favorite_count</th>\n",
       "    </tr>\n",
       "  </thead>\n",
       "  <tbody>\n",
       "    <tr>\n",
       "      <th>0</th>\n",
       "      <td>892177421306343426</td>\n",
       "      <td>2017-08-01 00:17:27 +0000</td>\n",
       "      <td>This is Tilly. She's just checking pup on you....</td>\n",
       "      <td>https://twitter.com/dog_rates/status/892177421...</td>\n",
       "      <td>13.0</td>\n",
       "      <td>Tilly</td>\n",
       "      <td>pup</td>\n",
       "      <td>13/10</td>\n",
       "      <td>https://pbs.twimg.com/media/DGGmoV4XsAAUL6n.jpg</td>\n",
       "      <td>1</td>\n",
       "      <td>Chihuahua</td>\n",
       "      <td>0.323581</td>\n",
       "      <td>p1</td>\n",
       "      <td>5688</td>\n",
       "      <td>31149</td>\n",
       "    </tr>\n",
       "    <tr>\n",
       "      <th>1</th>\n",
       "      <td>891815181378084864</td>\n",
       "      <td>2017-07-31 00:18:03 +0000</td>\n",
       "      <td>This is Archie. He is a rare Norwegian Pouncin...</td>\n",
       "      <td>https://twitter.com/dog_rates/status/891815181...</td>\n",
       "      <td>12.0</td>\n",
       "      <td>Archie</td>\n",
       "      <td>unclassified</td>\n",
       "      <td>12/10</td>\n",
       "      <td>https://pbs.twimg.com/media/DGBdLU1WsAANxJ9.jpg</td>\n",
       "      <td>1</td>\n",
       "      <td>Chihuahua</td>\n",
       "      <td>0.716012</td>\n",
       "      <td>p1</td>\n",
       "      <td>3771</td>\n",
       "      <td>23460</td>\n",
       "    </tr>\n",
       "    <tr>\n",
       "      <th>2</th>\n",
       "      <td>891689557279858688</td>\n",
       "      <td>2017-07-30 15:58:51 +0000</td>\n",
       "      <td>This is Darla. She commenced a snooze mid meal...</td>\n",
       "      <td>https://twitter.com/dog_rates/status/891689557...</td>\n",
       "      <td>13.0</td>\n",
       "      <td>Darla</td>\n",
       "      <td>unclassified</td>\n",
       "      <td>13/10</td>\n",
       "      <td>https://pbs.twimg.com/media/DF_q7IAWsAEuuN8.jpg</td>\n",
       "      <td>1</td>\n",
       "      <td>Labrador_retriever</td>\n",
       "      <td>0.168086</td>\n",
       "      <td>p2</td>\n",
       "      <td>7855</td>\n",
       "      <td>39394</td>\n",
       "    </tr>\n",
       "  </tbody>\n",
       "</table>\n",
       "</div>"
      ],
      "text/plain": [
       "             tweet_id                  timestamp  \\\n",
       "0  892177421306343426  2017-08-01 00:17:27 +0000   \n",
       "1  891815181378084864  2017-07-31 00:18:03 +0000   \n",
       "2  891689557279858688  2017-07-30 15:58:51 +0000   \n",
       "\n",
       "                                                text  \\\n",
       "0  This is Tilly. She's just checking pup on you....   \n",
       "1  This is Archie. He is a rare Norwegian Pouncin...   \n",
       "2  This is Darla. She commenced a snooze mid meal...   \n",
       "\n",
       "                                       expanded_urls  rating_numerator  \\\n",
       "0  https://twitter.com/dog_rates/status/892177421...              13.0   \n",
       "1  https://twitter.com/dog_rates/status/891815181...              12.0   \n",
       "2  https://twitter.com/dog_rates/status/891689557...              13.0   \n",
       "\n",
       "     name         stage full_rating  \\\n",
       "0   Tilly           pup       13/10   \n",
       "1  Archie  unclassified       12/10   \n",
       "2   Darla  unclassified       13/10   \n",
       "\n",
       "                                           jpg_url  img_num  \\\n",
       "0  https://pbs.twimg.com/media/DGGmoV4XsAAUL6n.jpg        1   \n",
       "1  https://pbs.twimg.com/media/DGBdLU1WsAANxJ9.jpg        1   \n",
       "2  https://pbs.twimg.com/media/DF_q7IAWsAEuuN8.jpg        1   \n",
       "\n",
       "            dog_breed  algorithm_conf prediction_algorithm  retweet_count  \\\n",
       "0           Chihuahua        0.323581                   p1           5688   \n",
       "1           Chihuahua        0.716012                   p1           3771   \n",
       "2  Labrador_retriever        0.168086                   p2           7855   \n",
       "\n",
       "   favorite_count  \n",
       "0           31149  \n",
       "1           23460  \n",
       "2           39394  "
      ]
     },
     "execution_count": 93,
     "metadata": {},
     "output_type": "execute_result"
    }
   ],
   "source": [
    "df_final.head(3)"
   ]
  },
  {
   "cell_type": "code",
   "execution_count": 94,
   "metadata": {},
   "outputs": [
    {
     "name": "stdout",
     "output_type": "stream",
     "text": [
      "<class 'pandas.core.frame.DataFrame'>\n",
      "Int64Index: 1304 entries, 0 to 1303\n",
      "Data columns (total 15 columns):\n",
      " #   Column                Non-Null Count  Dtype  \n",
      "---  ------                --------------  -----  \n",
      " 0   tweet_id              1304 non-null   int64  \n",
      " 1   timestamp             1304 non-null   object \n",
      " 2   text                  1304 non-null   object \n",
      " 3   expanded_urls         1304 non-null   object \n",
      " 4   rating_numerator      1304 non-null   float64\n",
      " 5   name                  1304 non-null   object \n",
      " 6   stage                 1304 non-null   object \n",
      " 7   full_rating           1304 non-null   object \n",
      " 8   jpg_url               1304 non-null   object \n",
      " 9   img_num               1304 non-null   int64  \n",
      " 10  dog_breed             1304 non-null   object \n",
      " 11  algorithm_conf        1304 non-null   float64\n",
      " 12  prediction_algorithm  1304 non-null   object \n",
      " 13  retweet_count         1304 non-null   int64  \n",
      " 14  favorite_count        1304 non-null   int64  \n",
      "dtypes: float64(2), int64(4), object(9)\n",
      "memory usage: 163.0+ KB\n"
     ]
    }
   ],
   "source": [
    "df_final.info()"
   ]
  },
  {
   "cell_type": "markdown",
   "metadata": {},
   "source": [
    "#### Define"
   ]
  },
  {
   "cell_type": "markdown",
   "metadata": {},
   "source": [
    "#### `df_final` table :\n",
    "- tweet_id is a float not a string using .astype function\n",
    "- time stamp column is object not time type\n",
    "- we need to change type of stages of dog, image number, breed of dog and chosen algorithm to category\n",
    "- check 'expanded_urls' and 'jpg_url' columns\n",
    "- re-index columns as we make our analysis more helpful\n",
    "- adjust variables in img_num and prediction_algorithm columns"
   ]
  },
  {
   "cell_type": "markdown",
   "metadata": {},
   "source": [
    "#### code"
   ]
  },
  {
   "cell_type": "code",
   "execution_count": 95,
   "metadata": {},
   "outputs": [
    {
     "data": {
      "text/plain": [
       "Index(['tweet_id', 'timestamp', 'text', 'expanded_urls', 'rating_numerator',\n",
       "       'name', 'stage', 'full_rating', 'jpg_url', 'img_num', 'dog_breed',\n",
       "       'algorithm_conf', 'prediction_algorithm', 'retweet_count',\n",
       "       'favorite_count'],\n",
       "      dtype='object')"
      ]
     },
     "execution_count": 95,
     "metadata": {},
     "output_type": "execute_result"
    }
   ],
   "source": [
    "df_final.columns"
   ]
  },
  {
   "cell_type": "code",
   "execution_count": 96,
   "metadata": {},
   "outputs": [],
   "source": [
    "df_final[['tweet_id','img_num']] = df_final[['tweet_id','img_num']].astype('str')\n",
    "df_final['timestamp'] = pd.to_datetime(df_final['timestamp'])\n",
    "df_final.img_num.replace({'1':'img_1','2':'img_2','2':'img_2','3':'img_3','4':'img_4'}, inplace=True)\n",
    "df_final.prediction_algorithm.replace({'p1':'P_1','p2':'P_2','p3':'P_3'}, inplace=True)\n",
    "df_final[['stage','img_num','dog_breed','prediction_algorithm']]= df_final[['stage','img_num','dog_breed',\n",
    "                                                                            'prediction_algorithm']].astype('category')"
   ]
  },
  {
   "cell_type": "markdown",
   "metadata": {},
   "source": [
    "#### after investigation, we found that 'expanded_urls' and 'jpg_url' columns represent same variable so we will drop one of them"
   ]
  },
  {
   "cell_type": "code",
   "execution_count": 97,
   "metadata": {},
   "outputs": [
    {
     "name": "stdout",
     "output_type": "stream",
     "text": [
      "https://twitter.com/dog_rates/status/672622327801233409/photo/1\n",
      "https://pbs.twimg.com/media/CVWicBbUYAIomjC.jpg\n"
     ]
    }
   ],
   "source": [
    "print(df_final.expanded_urls[1303])\n",
    "print(df_final.jpg_url[1303])"
   ]
  },
  {
   "cell_type": "code",
   "execution_count": 98,
   "metadata": {},
   "outputs": [],
   "source": [
    "df_final.drop(['expanded_urls'], axis=1, inplace=True)"
   ]
  },
  {
   "cell_type": "code",
   "execution_count": 99,
   "metadata": {},
   "outputs": [],
   "source": [
    "required_columns = ['tweet_id','timestamp','text','jpg_url','name','stage','dog_breed','img_num','algorithm_conf'\n",
    "                    ,'prediction_algorithm','full_rating','rating_numerator','retweet_count','favorite_count']\n",
    "df_final = df_final.reindex(columns=required_columns)"
   ]
  },
  {
   "cell_type": "markdown",
   "metadata": {},
   "source": [
    "#### Test"
   ]
  },
  {
   "cell_type": "code",
   "execution_count": 100,
   "metadata": {},
   "outputs": [
    {
     "name": "stdout",
     "output_type": "stream",
     "text": [
      "<class 'pandas.core.frame.DataFrame'>\n",
      "Int64Index: 1304 entries, 0 to 1303\n",
      "Data columns (total 14 columns):\n",
      " #   Column                Non-Null Count  Dtype              \n",
      "---  ------                --------------  -----              \n",
      " 0   tweet_id              1304 non-null   object             \n",
      " 1   timestamp             1304 non-null   datetime64[ns, UTC]\n",
      " 2   text                  1304 non-null   object             \n",
      " 3   jpg_url               1304 non-null   object             \n",
      " 4   name                  1304 non-null   object             \n",
      " 5   stage                 1304 non-null   category           \n",
      " 6   dog_breed             1304 non-null   category           \n",
      " 7   img_num               1304 non-null   category           \n",
      " 8   algorithm_conf        1304 non-null   float64            \n",
      " 9   prediction_algorithm  1304 non-null   category           \n",
      " 10  full_rating           1304 non-null   object             \n",
      " 11  rating_numerator      1304 non-null   float64            \n",
      " 12  retweet_count         1304 non-null   int64              \n",
      " 13  favorite_count        1304 non-null   int64              \n",
      "dtypes: category(4), datetime64[ns, UTC](1), float64(2), int64(2), object(5)\n",
      "memory usage: 163.5+ KB\n"
     ]
    }
   ],
   "source": [
    "df_final.info()"
   ]
  },
  {
   "cell_type": "code",
   "execution_count": 101,
   "metadata": {},
   "outputs": [
    {
     "data": {
      "text/html": [
       "<div>\n",
       "<style scoped>\n",
       "    .dataframe tbody tr th:only-of-type {\n",
       "        vertical-align: middle;\n",
       "    }\n",
       "\n",
       "    .dataframe tbody tr th {\n",
       "        vertical-align: top;\n",
       "    }\n",
       "\n",
       "    .dataframe thead th {\n",
       "        text-align: right;\n",
       "    }\n",
       "</style>\n",
       "<table border=\"1\" class=\"dataframe\">\n",
       "  <thead>\n",
       "    <tr style=\"text-align: right;\">\n",
       "      <th></th>\n",
       "      <th>tweet_id</th>\n",
       "      <th>timestamp</th>\n",
       "      <th>text</th>\n",
       "      <th>jpg_url</th>\n",
       "      <th>name</th>\n",
       "      <th>stage</th>\n",
       "      <th>dog_breed</th>\n",
       "      <th>img_num</th>\n",
       "      <th>algorithm_conf</th>\n",
       "      <th>prediction_algorithm</th>\n",
       "      <th>full_rating</th>\n",
       "      <th>rating_numerator</th>\n",
       "      <th>retweet_count</th>\n",
       "      <th>favorite_count</th>\n",
       "    </tr>\n",
       "  </thead>\n",
       "  <tbody>\n",
       "    <tr>\n",
       "      <th>0</th>\n",
       "      <td>892177421306343426</td>\n",
       "      <td>2017-08-01 00:17:27+00:00</td>\n",
       "      <td>This is Tilly. She's just checking pup on you....</td>\n",
       "      <td>https://pbs.twimg.com/media/DGGmoV4XsAAUL6n.jpg</td>\n",
       "      <td>Tilly</td>\n",
       "      <td>pup</td>\n",
       "      <td>Chihuahua</td>\n",
       "      <td>img_1</td>\n",
       "      <td>0.323581</td>\n",
       "      <td>P_1</td>\n",
       "      <td>13/10</td>\n",
       "      <td>13.0</td>\n",
       "      <td>5688</td>\n",
       "      <td>31149</td>\n",
       "    </tr>\n",
       "    <tr>\n",
       "      <th>1</th>\n",
       "      <td>891815181378084864</td>\n",
       "      <td>2017-07-31 00:18:03+00:00</td>\n",
       "      <td>This is Archie. He is a rare Norwegian Pouncin...</td>\n",
       "      <td>https://pbs.twimg.com/media/DGBdLU1WsAANxJ9.jpg</td>\n",
       "      <td>Archie</td>\n",
       "      <td>unclassified</td>\n",
       "      <td>Chihuahua</td>\n",
       "      <td>img_1</td>\n",
       "      <td>0.716012</td>\n",
       "      <td>P_1</td>\n",
       "      <td>12/10</td>\n",
       "      <td>12.0</td>\n",
       "      <td>3771</td>\n",
       "      <td>23460</td>\n",
       "    </tr>\n",
       "  </tbody>\n",
       "</table>\n",
       "</div>"
      ],
      "text/plain": [
       "             tweet_id                 timestamp  \\\n",
       "0  892177421306343426 2017-08-01 00:17:27+00:00   \n",
       "1  891815181378084864 2017-07-31 00:18:03+00:00   \n",
       "\n",
       "                                                text  \\\n",
       "0  This is Tilly. She's just checking pup on you....   \n",
       "1  This is Archie. He is a rare Norwegian Pouncin...   \n",
       "\n",
       "                                           jpg_url    name         stage  \\\n",
       "0  https://pbs.twimg.com/media/DGGmoV4XsAAUL6n.jpg   Tilly           pup   \n",
       "1  https://pbs.twimg.com/media/DGBdLU1WsAANxJ9.jpg  Archie  unclassified   \n",
       "\n",
       "   dog_breed img_num  algorithm_conf prediction_algorithm full_rating  \\\n",
       "0  Chihuahua   img_1        0.323581                  P_1       13/10   \n",
       "1  Chihuahua   img_1        0.716012                  P_1       12/10   \n",
       "\n",
       "   rating_numerator  retweet_count  favorite_count  \n",
       "0              13.0           5688           31149  \n",
       "1              12.0           3771           23460  "
      ]
     },
     "execution_count": 101,
     "metadata": {},
     "output_type": "execute_result"
    }
   ],
   "source": [
    "df_final.head(2)"
   ]
  },
  {
   "cell_type": "markdown",
   "metadata": {},
   "source": [
    "## Store Dataframe in `twitter_archive_master.csv`:"
   ]
  },
  {
   "cell_type": "code",
   "execution_count": 102,
   "metadata": {},
   "outputs": [],
   "source": [
    "df_final.to_csv('twitter_archive_master.csv', index=False)"
   ]
  },
  {
   "cell_type": "markdown",
   "metadata": {},
   "source": [
    "# Analyzing and Visualizing"
   ]
  },
  {
   "cell_type": "markdown",
   "metadata": {},
   "source": [
    "## Introduction\n",
    "#### This data set contains information about 1300 dogs collected from the tweet archive of Twitter user `@dog_rates`, also known as `WeRateDogs` and `The tweet image predictions` which is hosted on Udacity's servers,  this data contains:\n",
    "> <li>tweet_id </li>\n",
    "> <li>timestamp </li>\n",
    "> <li>text </li>\n",
    "> <li>jpg_url </li>\n",
    "> <li>name </li>\n",
    "> <li>stage </li>\n",
    "> <li>dog_breed </li>\n",
    "> <li>img_num </li>\n",
    "> <li>algorithm_conf </li>\n",
    "> <li>prediction algorithm  </li>\n",
    "> <li>full_rating </li>\n",
    "> <li>rating_numerator </li>\n",
    "> <li>retweet_count </li>\n",
    "> <li>favorite_count </li>\n",
    "\n",
    "## Analyzing and Visualizing :\n",
    "- #### Dogs that have highest and lowest `Retweet Count` (No Visual)\n",
    "- #### Dogs that have highest and lowest have `Favoriate Count` (No Visual)\n",
    "- #### Dogs that have highest and lowest have `Rating` (No Visual)\n",
    "Rating is based on dog's owner not audience, so it won't be fair if we use rating variable to determine best dog rating. <br>also, we shouldn't involve rating variable in bivariate exploration.\n",
    "### Categorical Variables :\n",
    "- #### How many Breed of Dogs in the Data Set ? (Visual)\n",
    "The Data Set contains about 111 Breed of Dogs so we will choose highest 10 breeds.<br>\n",
    "- #### The Distribution of Stages of Dogs (Visual)\n",
    "- #### `The Distribution of Prediction Algorithms` (Visual)\n",
    "- #### `Average Confidance for Prediction Algorithms` (Visual)\n",
    "- ##### from `The Distribution of Prediction Algorithms` and `Average Confidance for Prediction Algorithms ` :\n",
    "#1 prediction algorithm got involved in about `88.04 %` in predicting the most correct breed with average confidance about `62 %` <br>\n",
    "#2 prediction algorithm got involved in about `8.13 %` in predicting the most correct breed with average confidance about `12 %` <br>\n",
    "#3 prediction algorithm got involved in about `3.83 %` in predicting the most correct breed with average confidance about `5 %` <br>\n",
    "- #### `The Distribution of Images Number` (Visual)\n",
    "- #### `Average Confidance for Image Number` (Visual)\n",
    "- ##### from `The Distribution of Images Number` and `Average Confidance for Image Number` :\n",
    "about `83 %` of image #1 has average confidance about `54 %`<br>\n",
    "about `11.35 %` of image #1 has average confidance about `63 %`<br>\n",
    "about `4 %` of image #1 has average confidance about `62.5 %`<br>\n",
    "about `1.7 %` of image #1 has average confidance about `83 %`<br>\n",
    "- #### Prediction Algorithms and Image Number (Visual)\n",
    "- #### Average Confidance corresponding to Prediction Algorithms and Image Number (Visual)\n",
    "### Numerical Variables :\n",
    "- #### `Retweet Count` Distribution (Visual)\n",
    "Distribution of `Retweet Count` is unimodal and symmetric, it has about the same shape on either side of the middle.<br>\n",
    "- #### `Favorite Count` Distribution (Visual)\n",
    "Distribution of `Favorite Count` is roughly bimodal and skewed to right, with one large peak somewhere between 4 and 5 thousand, and a second median peak about 10 thousand.<br>\n",
    "- #### `Rating Numerator` Distribution (Visual)\n",
    "Distribution of `Rating` is unimodal and skewed to left.<br>\n",
    "Rating is based on dog's owner not audience, so it won't be fair if we use rating variable  to determine best dog rating.  also, we shouldn't involve rating variable in bivariate exploration.<br>\n",
    "- #### Relation between `Retweet Count` and `Favorite Count`\n",
    "`Retweet Count` is proportional to `Favorite Count` as shown, and this confirms the positive correlation between these two variables.<br>\n"
   ]
  },
  {
   "cell_type": "code",
   "execution_count": 103,
   "metadata": {},
   "outputs": [
    {
     "name": "stdout",
     "output_type": "stream",
     "text": [
      "<class 'pandas.core.frame.DataFrame'>\n",
      "Int64Index: 1304 entries, 0 to 1303\n",
      "Data columns (total 14 columns):\n",
      " #   Column                Non-Null Count  Dtype              \n",
      "---  ------                --------------  -----              \n",
      " 0   tweet_id              1304 non-null   object             \n",
      " 1   timestamp             1304 non-null   datetime64[ns, UTC]\n",
      " 2   text                  1304 non-null   object             \n",
      " 3   jpg_url               1304 non-null   object             \n",
      " 4   name                  1304 non-null   object             \n",
      " 5   stage                 1304 non-null   category           \n",
      " 6   dog_breed             1304 non-null   category           \n",
      " 7   img_num               1304 non-null   category           \n",
      " 8   algorithm_conf        1304 non-null   float64            \n",
      " 9   prediction_algorithm  1304 non-null   category           \n",
      " 10  full_rating           1304 non-null   object             \n",
      " 11  rating_numerator      1304 non-null   float64            \n",
      " 12  retweet_count         1304 non-null   int64              \n",
      " 13  favorite_count        1304 non-null   int64              \n",
      "dtypes: category(4), datetime64[ns, UTC](1), float64(2), int64(2), object(5)\n",
      "memory usage: 163.5+ KB\n"
     ]
    }
   ],
   "source": [
    "df_final.info()"
   ]
  },
  {
   "cell_type": "markdown",
   "metadata": {},
   "source": [
    "### Top 3 dogs that have highest `Retweet Count` "
   ]
  },
  {
   "cell_type": "code",
   "execution_count": 104,
   "metadata": {},
   "outputs": [
    {
     "data": {
      "text/html": [
       "<div>\n",
       "<style scoped>\n",
       "    .dataframe tbody tr th:only-of-type {\n",
       "        vertical-align: middle;\n",
       "    }\n",
       "\n",
       "    .dataframe tbody tr th {\n",
       "        vertical-align: top;\n",
       "    }\n",
       "\n",
       "    .dataframe thead th {\n",
       "        text-align: right;\n",
       "    }\n",
       "</style>\n",
       "<table border=\"1\" class=\"dataframe\">\n",
       "  <thead>\n",
       "    <tr style=\"text-align: right;\">\n",
       "      <th></th>\n",
       "      <th>tweet_id</th>\n",
       "      <th>name</th>\n",
       "      <th>stage</th>\n",
       "      <th>dog_breed</th>\n",
       "      <th>full_rating</th>\n",
       "      <th>rating_numerator</th>\n",
       "      <th>retweet_count</th>\n",
       "      <th>favorite_count</th>\n",
       "    </tr>\n",
       "  </thead>\n",
       "  <tbody>\n",
       "    <tr>\n",
       "      <th>378</th>\n",
       "      <td>807106840509214720</td>\n",
       "      <td>Stephan</td>\n",
       "      <td>unclassified</td>\n",
       "      <td>Chihuahua</td>\n",
       "      <td>13/10</td>\n",
       "      <td>13.0</td>\n",
       "      <td>56561</td>\n",
       "      <td>120290</td>\n",
       "    </tr>\n",
       "    <tr>\n",
       "      <th>282</th>\n",
       "      <td>822872901745569793</td>\n",
       "      <td>None</td>\n",
       "      <td>pup</td>\n",
       "      <td>Lakeland_terrier</td>\n",
       "      <td>13/10</td>\n",
       "      <td>13.0</td>\n",
       "      <td>43699</td>\n",
       "      <td>132712</td>\n",
       "    </tr>\n",
       "    <tr>\n",
       "      <th>54</th>\n",
       "      <td>879415818425184262</td>\n",
       "      <td>Duddles</td>\n",
       "      <td>unclassified</td>\n",
       "      <td>English_springer</td>\n",
       "      <td>13/10</td>\n",
       "      <td>13.0</td>\n",
       "      <td>40518</td>\n",
       "      <td>98992</td>\n",
       "    </tr>\n",
       "  </tbody>\n",
       "</table>\n",
       "</div>"
      ],
      "text/plain": [
       "               tweet_id     name         stage         dog_breed full_rating  \\\n",
       "378  807106840509214720  Stephan  unclassified         Chihuahua       13/10   \n",
       "282  822872901745569793     None           pup  Lakeland_terrier       13/10   \n",
       "54   879415818425184262  Duddles  unclassified  English_springer       13/10   \n",
       "\n",
       "     rating_numerator  retweet_count  favorite_count  \n",
       "378              13.0          56561          120290  \n",
       "282              13.0          43699          132712  \n",
       "54               13.0          40518           98992  "
      ]
     },
     "execution_count": 104,
     "metadata": {},
     "output_type": "execute_result"
    }
   ],
   "source": [
    "top_3_dogs_retweet_count = df_final.nlargest(n=3, columns=['retweet_count'])\n",
    "top_3_dogs_retweet_count[['tweet_id','name','stage','dog_breed','full_rating','rating_numerator',\n",
    "                          'retweet_count','favorite_count']]"
   ]
  },
  {
   "cell_type": "markdown",
   "metadata": {},
   "source": [
    "### Top 3 dogs that have lowest `Retweet Count` "
   ]
  },
  {
   "cell_type": "code",
   "execution_count": 105,
   "metadata": {},
   "outputs": [
    {
     "data": {
      "text/html": [
       "<div>\n",
       "<style scoped>\n",
       "    .dataframe tbody tr th:only-of-type {\n",
       "        vertical-align: middle;\n",
       "    }\n",
       "\n",
       "    .dataframe tbody tr th {\n",
       "        vertical-align: top;\n",
       "    }\n",
       "\n",
       "    .dataframe thead th {\n",
       "        text-align: right;\n",
       "    }\n",
       "</style>\n",
       "<table border=\"1\" class=\"dataframe\">\n",
       "  <thead>\n",
       "    <tr style=\"text-align: right;\">\n",
       "      <th></th>\n",
       "      <th>tweet_id</th>\n",
       "      <th>name</th>\n",
       "      <th>stage</th>\n",
       "      <th>dog_breed</th>\n",
       "      <th>full_rating</th>\n",
       "      <th>rating_numerator</th>\n",
       "      <th>retweet_count</th>\n",
       "      <th>favorite_count</th>\n",
       "    </tr>\n",
       "  </thead>\n",
       "  <tbody>\n",
       "    <tr>\n",
       "      <th>61</th>\n",
       "      <td>877611172832227328</td>\n",
       "      <td>None</td>\n",
       "      <td>pup</td>\n",
       "      <td>Irish_setter</td>\n",
       "      <td>14/10</td>\n",
       "      <td>14.0</td>\n",
       "      <td>73</td>\n",
       "      <td>0</td>\n",
       "    </tr>\n",
       "    <tr>\n",
       "      <th>1234</th>\n",
       "      <td>674737130913071104</td>\n",
       "      <td>Rufio</td>\n",
       "      <td>pup</td>\n",
       "      <td>Pomeranian</td>\n",
       "      <td>10/10</td>\n",
       "      <td>10.0</td>\n",
       "      <td>85</td>\n",
       "      <td>626</td>\n",
       "    </tr>\n",
       "    <tr>\n",
       "      <th>1199</th>\n",
       "      <td>675706639471788032</td>\n",
       "      <td>a</td>\n",
       "      <td>unclassified</td>\n",
       "      <td>English_springer</td>\n",
       "      <td>10/10</td>\n",
       "      <td>10.0</td>\n",
       "      <td>92</td>\n",
       "      <td>627</td>\n",
       "    </tr>\n",
       "  </tbody>\n",
       "</table>\n",
       "</div>"
      ],
      "text/plain": [
       "                tweet_id   name         stage         dog_breed full_rating  \\\n",
       "61    877611172832227328   None           pup      Irish_setter       14/10   \n",
       "1234  674737130913071104  Rufio           pup        Pomeranian       10/10   \n",
       "1199  675706639471788032      a  unclassified  English_springer       10/10   \n",
       "\n",
       "      rating_numerator  retweet_count  favorite_count  \n",
       "61                14.0             73               0  \n",
       "1234              10.0             85             626  \n",
       "1199              10.0             92             627  "
      ]
     },
     "execution_count": 105,
     "metadata": {},
     "output_type": "execute_result"
    }
   ],
   "source": [
    "top_3_dogs_retweet_count = df_final.nsmallest(n=3, columns=['retweet_count'])\n",
    "top_3_dogs_retweet_count[['tweet_id','name','stage','dog_breed','full_rating','rating_numerator',\n",
    "                          'retweet_count','favorite_count']]"
   ]
  },
  {
   "cell_type": "markdown",
   "metadata": {},
   "source": [
    "### Top 3 dogs that have highest  `Favoriate Count` "
   ]
  },
  {
   "cell_type": "code",
   "execution_count": 106,
   "metadata": {},
   "outputs": [
    {
     "data": {
      "text/html": [
       "<div>\n",
       "<style scoped>\n",
       "    .dataframe tbody tr th:only-of-type {\n",
       "        vertical-align: middle;\n",
       "    }\n",
       "\n",
       "    .dataframe tbody tr th {\n",
       "        vertical-align: top;\n",
       "    }\n",
       "\n",
       "    .dataframe thead th {\n",
       "        text-align: right;\n",
       "    }\n",
       "</style>\n",
       "<table border=\"1\" class=\"dataframe\">\n",
       "  <thead>\n",
       "    <tr style=\"text-align: right;\">\n",
       "      <th></th>\n",
       "      <th>tweet_id</th>\n",
       "      <th>name</th>\n",
       "      <th>stage</th>\n",
       "      <th>dog_breed</th>\n",
       "      <th>full_rating</th>\n",
       "      <th>rating_numerator</th>\n",
       "      <th>retweet_count</th>\n",
       "      <th>favorite_count</th>\n",
       "    </tr>\n",
       "  </thead>\n",
       "  <tbody>\n",
       "    <tr>\n",
       "      <th>282</th>\n",
       "      <td>822872901745569793</td>\n",
       "      <td>None</td>\n",
       "      <td>pup</td>\n",
       "      <td>Lakeland_terrier</td>\n",
       "      <td>13/10</td>\n",
       "      <td>13.0</td>\n",
       "      <td>43699</td>\n",
       "      <td>132712</td>\n",
       "    </tr>\n",
       "    <tr>\n",
       "      <th>378</th>\n",
       "      <td>807106840509214720</td>\n",
       "      <td>Stephan</td>\n",
       "      <td>unclassified</td>\n",
       "      <td>Chihuahua</td>\n",
       "      <td>13/10</td>\n",
       "      <td>13.0</td>\n",
       "      <td>56561</td>\n",
       "      <td>120290</td>\n",
       "    </tr>\n",
       "    <tr>\n",
       "      <th>102</th>\n",
       "      <td>866450705531457537</td>\n",
       "      <td>Jamesy</td>\n",
       "      <td>pup</td>\n",
       "      <td>French_bulldog</td>\n",
       "      <td>13/10</td>\n",
       "      <td>13.0</td>\n",
       "      <td>32869</td>\n",
       "      <td>116168</td>\n",
       "    </tr>\n",
       "  </tbody>\n",
       "</table>\n",
       "</div>"
      ],
      "text/plain": [
       "               tweet_id     name         stage         dog_breed full_rating  \\\n",
       "282  822872901745569793     None           pup  Lakeland_terrier       13/10   \n",
       "378  807106840509214720  Stephan  unclassified         Chihuahua       13/10   \n",
       "102  866450705531457537   Jamesy           pup    French_bulldog       13/10   \n",
       "\n",
       "     rating_numerator  retweet_count  favorite_count  \n",
       "282              13.0          43699          132712  \n",
       "378              13.0          56561          120290  \n",
       "102              13.0          32869          116168  "
      ]
     },
     "execution_count": 106,
     "metadata": {},
     "output_type": "execute_result"
    }
   ],
   "source": [
    "top_3_dogs_retweet_count = df_final.nlargest(n=3, columns=['favorite_count'])\n",
    "top_3_dogs_retweet_count[['tweet_id','name','stage','dog_breed','full_rating','rating_numerator',\n",
    "                          'retweet_count','favorite_count']]"
   ]
  },
  {
   "cell_type": "markdown",
   "metadata": {},
   "source": [
    "### Top 3 dogs that have lowest `Favoriate Count` "
   ]
  },
  {
   "cell_type": "code",
   "execution_count": 107,
   "metadata": {},
   "outputs": [
    {
     "data": {
      "text/html": [
       "<div>\n",
       "<style scoped>\n",
       "    .dataframe tbody tr th:only-of-type {\n",
       "        vertical-align: middle;\n",
       "    }\n",
       "\n",
       "    .dataframe tbody tr th {\n",
       "        vertical-align: top;\n",
       "    }\n",
       "\n",
       "    .dataframe thead th {\n",
       "        text-align: right;\n",
       "    }\n",
       "</style>\n",
       "<table border=\"1\" class=\"dataframe\">\n",
       "  <thead>\n",
       "    <tr style=\"text-align: right;\">\n",
       "      <th></th>\n",
       "      <th>tweet_id</th>\n",
       "      <th>name</th>\n",
       "      <th>stage</th>\n",
       "      <th>dog_breed</th>\n",
       "      <th>full_rating</th>\n",
       "      <th>rating_numerator</th>\n",
       "      <th>retweet_count</th>\n",
       "      <th>favorite_count</th>\n",
       "    </tr>\n",
       "  </thead>\n",
       "  <tbody>\n",
       "    <tr>\n",
       "      <th>29</th>\n",
       "      <td>885311592912609280</td>\n",
       "      <td>Lilly</td>\n",
       "      <td>unclassified</td>\n",
       "      <td>Labrador_retriever</td>\n",
       "      <td>13/10</td>\n",
       "      <td>13.0</td>\n",
       "      <td>16856</td>\n",
       "      <td>0</td>\n",
       "    </tr>\n",
       "    <tr>\n",
       "      <th>61</th>\n",
       "      <td>877611172832227328</td>\n",
       "      <td>None</td>\n",
       "      <td>pup</td>\n",
       "      <td>Irish_setter</td>\n",
       "      <td>14/10</td>\n",
       "      <td>14.0</td>\n",
       "      <td>73</td>\n",
       "      <td>0</td>\n",
       "    </tr>\n",
       "    <tr>\n",
       "      <th>99</th>\n",
       "      <td>867072653475098625</td>\n",
       "      <td>None</td>\n",
       "      <td>unclassified</td>\n",
       "      <td>Blenheim_spaniel</td>\n",
       "      <td>13/10</td>\n",
       "      <td>13.0</td>\n",
       "      <td>112</td>\n",
       "      <td>0</td>\n",
       "    </tr>\n",
       "  </tbody>\n",
       "</table>\n",
       "</div>"
      ],
      "text/plain": [
       "              tweet_id   name         stage           dog_breed full_rating  \\\n",
       "29  885311592912609280  Lilly  unclassified  Labrador_retriever       13/10   \n",
       "61  877611172832227328   None           pup        Irish_setter       14/10   \n",
       "99  867072653475098625   None  unclassified    Blenheim_spaniel       13/10   \n",
       "\n",
       "    rating_numerator  retweet_count  favorite_count  \n",
       "29              13.0          16856               0  \n",
       "61              14.0             73               0  \n",
       "99              13.0            112               0  "
      ]
     },
     "execution_count": 107,
     "metadata": {},
     "output_type": "execute_result"
    }
   ],
   "source": [
    "top_3_dogs_retweet_count = df_final.nsmallest(n=3, columns=['favorite_count'])\n",
    "top_3_dogs_retweet_count[['tweet_id','name','stage','dog_breed','full_rating','rating_numerator',\n",
    "                          'retweet_count','favorite_count']]"
   ]
  },
  {
   "cell_type": "markdown",
   "metadata": {},
   "source": [
    "### what dog has highest `Rating` "
   ]
  },
  {
   "cell_type": "code",
   "execution_count": 108,
   "metadata": {},
   "outputs": [
    {
     "data": {
      "text/html": [
       "<div>\n",
       "<style scoped>\n",
       "    .dataframe tbody tr th:only-of-type {\n",
       "        vertical-align: middle;\n",
       "    }\n",
       "\n",
       "    .dataframe tbody tr th {\n",
       "        vertical-align: top;\n",
       "    }\n",
       "\n",
       "    .dataframe thead th {\n",
       "        text-align: right;\n",
       "    }\n",
       "</style>\n",
       "<table border=\"1\" class=\"dataframe\">\n",
       "  <thead>\n",
       "    <tr style=\"text-align: right;\">\n",
       "      <th></th>\n",
       "      <th>tweet_id</th>\n",
       "      <th>name</th>\n",
       "      <th>stage</th>\n",
       "      <th>dog_breed</th>\n",
       "      <th>full_rating</th>\n",
       "      <th>rating_numerator</th>\n",
       "      <th>retweet_count</th>\n",
       "      <th>favorite_count</th>\n",
       "    </tr>\n",
       "  </thead>\n",
       "  <tbody>\n",
       "    <tr>\n",
       "      <th>361</th>\n",
       "      <td>810984652412424192</td>\n",
       "      <td>Sam</td>\n",
       "      <td>unclassified</td>\n",
       "      <td>golden_retriever</td>\n",
       "      <td>34.0/10</td>\n",
       "      <td>34.0</td>\n",
       "      <td>1464</td>\n",
       "      <td>5427</td>\n",
       "    </tr>\n",
       "  </tbody>\n",
       "</table>\n",
       "</div>"
      ],
      "text/plain": [
       "               tweet_id name         stage         dog_breed full_rating  \\\n",
       "361  810984652412424192  Sam  unclassified  golden_retriever     34.0/10   \n",
       "\n",
       "     rating_numerator  retweet_count  favorite_count  \n",
       "361              34.0           1464            5427  "
      ]
     },
     "execution_count": 108,
     "metadata": {},
     "output_type": "execute_result"
    }
   ],
   "source": [
    "highest_Rating = df_final[ df_final.rating_numerator == df_final.rating_numerator.max() ]\n",
    "highest_Rating[['tweet_id','name','stage','dog_breed','full_rating','rating_numerator','retweet_count','favorite_count']]"
   ]
  },
  {
   "cell_type": "markdown",
   "metadata": {},
   "source": [
    "### what dog has lowest `Rating` "
   ]
  },
  {
   "cell_type": "code",
   "execution_count": 109,
   "metadata": {},
   "outputs": [
    {
     "data": {
      "text/html": [
       "<div>\n",
       "<style scoped>\n",
       "    .dataframe tbody tr th:only-of-type {\n",
       "        vertical-align: middle;\n",
       "    }\n",
       "\n",
       "    .dataframe tbody tr th {\n",
       "        vertical-align: top;\n",
       "    }\n",
       "\n",
       "    .dataframe thead th {\n",
       "        text-align: right;\n",
       "    }\n",
       "</style>\n",
       "<table border=\"1\" class=\"dataframe\">\n",
       "  <thead>\n",
       "    <tr style=\"text-align: right;\">\n",
       "      <th></th>\n",
       "      <th>tweet_id</th>\n",
       "      <th>name</th>\n",
       "      <th>stage</th>\n",
       "      <th>dog_breed</th>\n",
       "      <th>full_rating</th>\n",
       "      <th>rating_numerator</th>\n",
       "      <th>retweet_count</th>\n",
       "      <th>favorite_count</th>\n",
       "    </tr>\n",
       "  </thead>\n",
       "  <tbody>\n",
       "    <tr>\n",
       "      <th>209</th>\n",
       "      <td>835152434251116546</td>\n",
       "      <td>None</td>\n",
       "      <td>unclassified</td>\n",
       "      <td>American_Staffordshire_terrier</td>\n",
       "      <td>0/10</td>\n",
       "      <td>0.0</td>\n",
       "      <td>3020</td>\n",
       "      <td>22406</td>\n",
       "    </tr>\n",
       "  </tbody>\n",
       "</table>\n",
       "</div>"
      ],
      "text/plain": [
       "               tweet_id  name         stage                       dog_breed  \\\n",
       "209  835152434251116546  None  unclassified  American_Staffordshire_terrier   \n",
       "\n",
       "    full_rating  rating_numerator  retweet_count  favorite_count  \n",
       "209        0/10               0.0           3020           22406  "
      ]
     },
     "execution_count": 109,
     "metadata": {},
     "output_type": "execute_result"
    }
   ],
   "source": [
    "lowest_Rating = df_final[ df_final.rating_numerator == df_final.rating_numerator.min() ]\n",
    "lowest_Rating[['tweet_id','name','stage','dog_breed','full_rating','rating_numerator','retweet_count','favorite_count']]"
   ]
  },
  {
   "cell_type": "markdown",
   "metadata": {},
   "source": [
    "#### Comment: Rating is based on dog's owner not audience, so it won't be fair if we use rating variable  to determine best dog rating.  also, we shouldn't involve rating variable in bivariate exploration"
   ]
  },
  {
   "cell_type": "markdown",
   "metadata": {},
   "source": [
    "## Categorical Variables :"
   ]
  },
  {
   "cell_type": "markdown",
   "metadata": {},
   "source": [
    "###  How many Breed of Dogs in the Data Set ?"
   ]
  },
  {
   "cell_type": "code",
   "execution_count": 110,
   "metadata": {},
   "outputs": [
    {
     "name": "stdout",
     "output_type": "stream",
     "text": [
      "The Data Set contains about 111 Breed of Dogs so we will choose highest 10 breeds\n"
     ]
    }
   ],
   "source": [
    "print(\"The Data Set contains about {} Breed of Dogs so we will choose highest 10 breeds\"\\\n",
    "      .format(df_final.dog_breed.value_counts().count()))"
   ]
  },
  {
   "cell_type": "markdown",
   "metadata": {},
   "source": [
    "#### Comment: The Data Set contains about 111 Breed of Dogs so we will choose highest 10 breeds"
   ]
  },
  {
   "cell_type": "code",
   "execution_count": 111,
   "metadata": {
    "scrolled": true
   },
   "outputs": [
    {
     "data": {
      "text/html": [
       "<div>\n",
       "<style scoped>\n",
       "    .dataframe tbody tr th:only-of-type {\n",
       "        vertical-align: middle;\n",
       "    }\n",
       "\n",
       "    .dataframe tbody tr th {\n",
       "        vertical-align: top;\n",
       "    }\n",
       "\n",
       "    .dataframe thead th {\n",
       "        text-align: right;\n",
       "    }\n",
       "</style>\n",
       "<table border=\"1\" class=\"dataframe\">\n",
       "  <thead>\n",
       "    <tr style=\"text-align: right;\">\n",
       "      <th></th>\n",
       "      <th>value_counts</th>\n",
       "    </tr>\n",
       "    <tr>\n",
       "      <th>dog_breed</th>\n",
       "      <th></th>\n",
       "    </tr>\n",
       "  </thead>\n",
       "  <tbody>\n",
       "    <tr>\n",
       "      <th>golden_retriever</th>\n",
       "      <td>137</td>\n",
       "    </tr>\n",
       "    <tr>\n",
       "      <th>Labrador_retriever</th>\n",
       "      <td>78</td>\n",
       "    </tr>\n",
       "    <tr>\n",
       "      <th>Pembroke</th>\n",
       "      <td>74</td>\n",
       "    </tr>\n",
       "    <tr>\n",
       "      <th>Chihuahua</th>\n",
       "      <td>68</td>\n",
       "    </tr>\n",
       "    <tr>\n",
       "      <th>pug</th>\n",
       "      <td>45</td>\n",
       "    </tr>\n",
       "    <tr>\n",
       "      <th>chow</th>\n",
       "      <td>40</td>\n",
       "    </tr>\n",
       "    <tr>\n",
       "      <th>Samoyed</th>\n",
       "      <td>39</td>\n",
       "    </tr>\n",
       "    <tr>\n",
       "      <th>Pomeranian</th>\n",
       "      <td>34</td>\n",
       "    </tr>\n",
       "    <tr>\n",
       "      <th>toy_poodle</th>\n",
       "      <td>32</td>\n",
       "    </tr>\n",
       "    <tr>\n",
       "      <th>cocker_spaniel</th>\n",
       "      <td>28</td>\n",
       "    </tr>\n",
       "  </tbody>\n",
       "</table>\n",
       "</div>"
      ],
      "text/plain": [
       "                    value_counts\n",
       "dog_breed                       \n",
       "golden_retriever             137\n",
       "Labrador_retriever            78\n",
       "Pembroke                      74\n",
       "Chihuahua                     68\n",
       "pug                           45\n",
       "chow                          40\n",
       "Samoyed                       39\n",
       "Pomeranian                    34\n",
       "toy_poodle                    32\n",
       "cocker_spaniel                28"
      ]
     },
     "execution_count": 111,
     "metadata": {},
     "output_type": "execute_result"
    }
   ],
   "source": [
    "dog_breed_value_counts = df_final.dog_breed.value_counts().to_frame()\n",
    "dog_breed_value_counts.rename(columns={'dog_breed':'value_counts'},inplace=True)\n",
    "dog_breed_value_counts.index.name='dog_breed'\n",
    "dog_breed_value_counts.head(10)"
   ]
  },
  {
   "cell_type": "code",
   "execution_count": 112,
   "metadata": {},
   "outputs": [
    {
     "data": {
      "image/png": "[encoded data removed]",
      "text/plain": [
       "<Figure size 576x576 with 1 Axes>"
      ]
     },
     "metadata": {},
     "output_type": "display_data"
    }
   ],
   "source": [
    "plt.figure(figsize=(8,8))\n",
    "labels_list = np.full(len(dog_breed_value_counts.index),\"\",dtype=object)\n",
    "labels_list[0:10] = dog_breed_value_counts.index[0:10]\n",
    "plt.pie(dog_breed_value_counts.value_counts, labels = labels_list, startangle = 90,\n",
    "        counterclock = False,labeldistance=1.05);\n",
    "plt.axis('square');"
   ]
  },
  {
   "cell_type": "code",
   "execution_count": 113,
   "metadata": {},
   "outputs": [],
   "source": [
    "def category_plot(df_final, str_category, str_title):\n",
    "    type_counts = df_final[str_category].value_counts()\n",
    "    plt.figure(figsize=(10,8))\n",
    "    sns.set(style=\"whitegrid\", font_scale=1.5); \n",
    "    sns.countplot(data = df_final, x = str_category, color = 'tab:blue', order=type_counts.index);\n",
    "    n_points = df_final.shape[0]\n",
    "    locs, labels = plt.xticks() # get the current tick locations and labels\n",
    "\n",
    "    # loop through each pair of locations and labels\n",
    "    for loc, label in zip(locs, labels):\n",
    "        #get the text property for the label to get the correct count\n",
    "        count = type_counts[label.get_text()]\n",
    "        count_string = '{:,}'.format(count)\n",
    "        pct_string = '{:0.2f}%'.format(100*count/n_points)\n",
    "        full_string = count_string + ' (' + pct_string + ')' \n",
    "\n",
    "        # print the annotation just below the top of the bar\n",
    "        plt.text(loc, count+10, full_string, fontsize=13, ha = 'center')\n",
    "    plt.title(str_title);"
   ]
  },
  {
   "cell_type": "markdown",
   "metadata": {},
   "source": [
    "### The Distribution of Stages of Dogs :"
   ]
  },
  {
   "cell_type": "code",
   "execution_count": 114,
   "metadata": {
    "scrolled": true
   },
   "outputs": [
    {
     "data": {
      "text/html": [
       "<div>\n",
       "<style scoped>\n",
       "    .dataframe tbody tr th:only-of-type {\n",
       "        vertical-align: middle;\n",
       "    }\n",
       "\n",
       "    .dataframe tbody tr th {\n",
       "        vertical-align: top;\n",
       "    }\n",
       "\n",
       "    .dataframe thead th {\n",
       "        text-align: right;\n",
       "    }\n",
       "</style>\n",
       "<table border=\"1\" class=\"dataframe\">\n",
       "  <thead>\n",
       "    <tr style=\"text-align: right;\">\n",
       "      <th></th>\n",
       "      <th>value_counts</th>\n",
       "    </tr>\n",
       "    <tr>\n",
       "      <th>stage</th>\n",
       "      <th></th>\n",
       "    </tr>\n",
       "  </thead>\n",
       "  <tbody>\n",
       "    <tr>\n",
       "      <th>unclassified</th>\n",
       "      <td>908</td>\n",
       "    </tr>\n",
       "    <tr>\n",
       "      <th>pup</th>\n",
       "      <td>346</td>\n",
       "    </tr>\n",
       "    <tr>\n",
       "      <th>doggo</th>\n",
       "      <td>41</td>\n",
       "    </tr>\n",
       "    <tr>\n",
       "      <th>floofer</th>\n",
       "      <td>5</td>\n",
       "    </tr>\n",
       "    <tr>\n",
       "      <th>woof</th>\n",
       "      <td>4</td>\n",
       "    </tr>\n",
       "  </tbody>\n",
       "</table>\n",
       "</div>"
      ],
      "text/plain": [
       "              value_counts\n",
       "stage                     \n",
       "unclassified           908\n",
       "pup                    346\n",
       "doggo                   41\n",
       "floofer                  5\n",
       "woof                     4"
      ]
     },
     "execution_count": 114,
     "metadata": {},
     "output_type": "execute_result"
    }
   ],
   "source": [
    "stage_value_counts = df_final.stage.value_counts().to_frame()\n",
    "stage_value_counts.rename(columns={'stage':'value_counts'},inplace=True)\n",
    "stage_value_counts.index.name='stage'\n",
    "stage_value_counts"
   ]
  },
  {
   "cell_type": "code",
   "execution_count": 115,
   "metadata": {},
   "outputs": [
    {
     "data": {
      "image/png": "[encoded data removed]",
      "text/plain": [
       "<Figure size 720x576 with 1 Axes>"
      ]
     },
     "metadata": {
      "needs_background": "light"
     },
     "output_type": "display_data"
    }
   ],
   "source": [
    "category_plot(df_final, 'stage', 'The Distribution of Stages of Dogs')"
   ]
  },
  {
   "cell_type": "markdown",
   "metadata": {},
   "source": [
    "### The Distribution of Prediction Algorithms :"
   ]
  },
  {
   "cell_type": "code",
   "execution_count": 116,
   "metadata": {},
   "outputs": [
    {
     "data": {
      "text/html": [
       "<div>\n",
       "<style scoped>\n",
       "    .dataframe tbody tr th:only-of-type {\n",
       "        vertical-align: middle;\n",
       "    }\n",
       "\n",
       "    .dataframe tbody tr th {\n",
       "        vertical-align: top;\n",
       "    }\n",
       "\n",
       "    .dataframe thead th {\n",
       "        text-align: right;\n",
       "    }\n",
       "</style>\n",
       "<table border=\"1\" class=\"dataframe\">\n",
       "  <thead>\n",
       "    <tr style=\"text-align: right;\">\n",
       "      <th></th>\n",
       "      <th>value_counts</th>\n",
       "    </tr>\n",
       "    <tr>\n",
       "      <th>prediction_algorithm</th>\n",
       "      <th></th>\n",
       "    </tr>\n",
       "  </thead>\n",
       "  <tbody>\n",
       "    <tr>\n",
       "      <th>P_1</th>\n",
       "      <td>1148</td>\n",
       "    </tr>\n",
       "    <tr>\n",
       "      <th>P_2</th>\n",
       "      <td>106</td>\n",
       "    </tr>\n",
       "    <tr>\n",
       "      <th>P_3</th>\n",
       "      <td>50</td>\n",
       "    </tr>\n",
       "  </tbody>\n",
       "</table>\n",
       "</div>"
      ],
      "text/plain": [
       "                      value_counts\n",
       "prediction_algorithm              \n",
       "P_1                           1148\n",
       "P_2                            106\n",
       "P_3                             50"
      ]
     },
     "execution_count": 116,
     "metadata": {},
     "output_type": "execute_result"
    }
   ],
   "source": [
    "prediction_algorithm_value_counts = df_final.prediction_algorithm.value_counts().to_frame()\n",
    "prediction_algorithm_value_counts.rename(columns={'prediction_algorithm':'value_counts'},inplace=True)\n",
    "prediction_algorithm_value_counts.index.name='prediction_algorithm'\n",
    "prediction_algorithm_value_counts"
   ]
  },
  {
   "cell_type": "code",
   "execution_count": 117,
   "metadata": {},
   "outputs": [
    {
     "data": {
      "image/png": "[encoded data removed]",
      "text/plain": [
       "<Figure size 720x576 with 1 Axes>"
      ]
     },
     "metadata": {},
     "output_type": "display_data"
    }
   ],
   "source": [
    "category_plot(df_final, 'prediction_algorithm', 'The Distribution of Prediction Algorithms')"
   ]
  },
  {
   "cell_type": "markdown",
   "metadata": {},
   "source": [
    "### Average Confidance for Prediction Algorithms :"
   ]
  },
  {
   "cell_type": "code",
   "execution_count": 118,
   "metadata": {},
   "outputs": [
    {
     "data": {
      "text/html": [
       "<div>\n",
       "<style scoped>\n",
       "    .dataframe tbody tr th:only-of-type {\n",
       "        vertical-align: middle;\n",
       "    }\n",
       "\n",
       "    .dataframe tbody tr th {\n",
       "        vertical-align: top;\n",
       "    }\n",
       "\n",
       "    .dataframe thead th {\n",
       "        text-align: right;\n",
       "    }\n",
       "</style>\n",
       "<table border=\"1\" class=\"dataframe\">\n",
       "  <thead>\n",
       "    <tr style=\"text-align: right;\">\n",
       "      <th></th>\n",
       "      <th>algorithm_conf</th>\n",
       "    </tr>\n",
       "    <tr>\n",
       "      <th>prediction_algorithm</th>\n",
       "      <th></th>\n",
       "    </tr>\n",
       "  </thead>\n",
       "  <tbody>\n",
       "    <tr>\n",
       "      <th>P_1</th>\n",
       "      <td>0.621783</td>\n",
       "    </tr>\n",
       "    <tr>\n",
       "      <th>P_2</th>\n",
       "      <td>0.122478</td>\n",
       "    </tr>\n",
       "    <tr>\n",
       "      <th>P_3</th>\n",
       "      <td>0.049857</td>\n",
       "    </tr>\n",
       "  </tbody>\n",
       "</table>\n",
       "</div>"
      ],
      "text/plain": [
       "                      algorithm_conf\n",
       "prediction_algorithm                \n",
       "P_1                         0.621783\n",
       "P_2                         0.122478\n",
       "P_3                         0.049857"
      ]
     },
     "execution_count": 118,
     "metadata": {},
     "output_type": "execute_result"
    }
   ],
   "source": [
    "df_final.groupby(['prediction_algorithm'])[['algorithm_conf']].mean()"
   ]
  },
  {
   "cell_type": "code",
   "execution_count": 119,
   "metadata": {},
   "outputs": [
    {
     "data": {
      "image/png": "[encoded data removed]",
      "text/plain": [
       "<Figure size 432x288 with 1 Axes>"
      ]
     },
     "metadata": {},
     "output_type": "display_data"
    }
   ],
   "source": [
    "sns.barplot(x='prediction_algorithm', y='algorithm_conf', data=df_final, color = 'tab:blue');\n",
    "plt.xlabel('Prediction Algorithm', fontsize=13);\n",
    "plt.ylabel('Average Confidance', fontsize=13);\n",
    "plt.title('Average Confidance for Prediction Algorithms', fontsize=13);"
   ]
  },
  {
   "cell_type": "markdown",
   "metadata": {},
   "source": [
    "#### Comment: from `The Distribution of Prediction Algorithms` and `Average Confidance for Prediction Algorithms ` :\n",
    "- #1 prediction algorithm got involved in about `88.04 %` in predicting the most correct breed with average confidance about `62 %`\n",
    "- #2 prediction algorithm got involved in about `8.13 %` in predicting the most correct breed with average confidance about `12 %`\n",
    "- #3 prediction algorithm got involved in about `3.83 %` in predicting the most correct breed with average confidance about `5 %`"
   ]
  },
  {
   "cell_type": "markdown",
   "metadata": {},
   "source": [
    "### The Distribution of Images Number :"
   ]
  },
  {
   "cell_type": "code",
   "execution_count": 120,
   "metadata": {},
   "outputs": [
    {
     "data": {
      "text/html": [
       "<div>\n",
       "<style scoped>\n",
       "    .dataframe tbody tr th:only-of-type {\n",
       "        vertical-align: middle;\n",
       "    }\n",
       "\n",
       "    .dataframe tbody tr th {\n",
       "        vertical-align: top;\n",
       "    }\n",
       "\n",
       "    .dataframe thead th {\n",
       "        text-align: right;\n",
       "    }\n",
       "</style>\n",
       "<table border=\"1\" class=\"dataframe\">\n",
       "  <thead>\n",
       "    <tr style=\"text-align: right;\">\n",
       "      <th></th>\n",
       "      <th>value_counts</th>\n",
       "    </tr>\n",
       "    <tr>\n",
       "      <th>img_num</th>\n",
       "      <th></th>\n",
       "    </tr>\n",
       "  </thead>\n",
       "  <tbody>\n",
       "    <tr>\n",
       "      <th>img_1</th>\n",
       "      <td>1082</td>\n",
       "    </tr>\n",
       "    <tr>\n",
       "      <th>img_2</th>\n",
       "      <td>148</td>\n",
       "    </tr>\n",
       "    <tr>\n",
       "      <th>img_3</th>\n",
       "      <td>52</td>\n",
       "    </tr>\n",
       "    <tr>\n",
       "      <th>img_4</th>\n",
       "      <td>22</td>\n",
       "    </tr>\n",
       "  </tbody>\n",
       "</table>\n",
       "</div>"
      ],
      "text/plain": [
       "         value_counts\n",
       "img_num              \n",
       "img_1            1082\n",
       "img_2             148\n",
       "img_3              52\n",
       "img_4              22"
      ]
     },
     "execution_count": 120,
     "metadata": {},
     "output_type": "execute_result"
    }
   ],
   "source": [
    "img_num_value_counts = df_final.img_num.value_counts().to_frame()\n",
    "img_num_value_counts.rename(columns={'img_num':'value_counts'},inplace=True)\n",
    "img_num_value_counts.index.name='img_num'\n",
    "img_num_value_counts"
   ]
  },
  {
   "cell_type": "code",
   "execution_count": 121,
   "metadata": {},
   "outputs": [
    {
     "data": {
      "image/png": "[encoded data removed]",
      "text/plain": [
       "<Figure size 720x576 with 1 Axes>"
      ]
     },
     "metadata": {},
     "output_type": "display_data"
    }
   ],
   "source": [
    "category_plot(df_final, 'img_num', 'The Distribution of Images Number')"
   ]
  },
  {
   "cell_type": "markdown",
   "metadata": {},
   "source": [
    "### Average Confidance for Image Number :"
   ]
  },
  {
   "cell_type": "code",
   "execution_count": 122,
   "metadata": {},
   "outputs": [
    {
     "data": {
      "text/html": [
       "<div>\n",
       "<style scoped>\n",
       "    .dataframe tbody tr th:only-of-type {\n",
       "        vertical-align: middle;\n",
       "    }\n",
       "\n",
       "    .dataframe tbody tr th {\n",
       "        vertical-align: top;\n",
       "    }\n",
       "\n",
       "    .dataframe thead th {\n",
       "        text-align: right;\n",
       "    }\n",
       "</style>\n",
       "<table border=\"1\" class=\"dataframe\">\n",
       "  <thead>\n",
       "    <tr style=\"text-align: right;\">\n",
       "      <th></th>\n",
       "      <th>algorithm_conf</th>\n",
       "    </tr>\n",
       "    <tr>\n",
       "      <th>img_num</th>\n",
       "      <th></th>\n",
       "    </tr>\n",
       "  </thead>\n",
       "  <tbody>\n",
       "    <tr>\n",
       "      <th>img_1</th>\n",
       "      <td>0.540728</td>\n",
       "    </tr>\n",
       "    <tr>\n",
       "      <th>img_2</th>\n",
       "      <td>0.631417</td>\n",
       "    </tr>\n",
       "    <tr>\n",
       "      <th>img_3</th>\n",
       "      <td>0.625300</td>\n",
       "    </tr>\n",
       "    <tr>\n",
       "      <th>img_4</th>\n",
       "      <td>0.829510</td>\n",
       "    </tr>\n",
       "  </tbody>\n",
       "</table>\n",
       "</div>"
      ],
      "text/plain": [
       "         algorithm_conf\n",
       "img_num                \n",
       "img_1          0.540728\n",
       "img_2          0.631417\n",
       "img_3          0.625300\n",
       "img_4          0.829510"
      ]
     },
     "execution_count": 122,
     "metadata": {},
     "output_type": "execute_result"
    }
   ],
   "source": [
    "df_final.groupby(['img_num'])[['algorithm_conf']].mean()"
   ]
  },
  {
   "cell_type": "code",
   "execution_count": 123,
   "metadata": {},
   "outputs": [
    {
     "data": {
      "image/png": "[encoded data removed]",
      "text/plain": [
       "<Figure size 432x288 with 1 Axes>"
      ]
     },
     "metadata": {},
     "output_type": "display_data"
    }
   ],
   "source": [
    "sns.barplot(x='img_num', y='algorithm_conf', data=df_final, color = 'tab:blue');\n",
    "plt.xlabel('Image Number', fontsize=13);\n",
    "plt.ylabel('Average Confidance', fontsize=13);\n",
    "plt.title('Average Confidance for Image Number', fontsize=13);"
   ]
  },
  {
   "cell_type": "markdown",
   "metadata": {},
   "source": [
    "#### Comment: from `The Distribution of Images Number` and `Average Confidance for Image Number` :\n",
    "- about `83 %` of image #1 has average confidance about `54 %`\n",
    "- about `11.35 %` of image #1 has average confidance about `63 %`\n",
    "- about `4 %` of image #1 has average confidance about `62.5 %`\n",
    "- about `1.7 %` of image #1 has average confidance about `83 %`"
   ]
  },
  {
   "cell_type": "markdown",
   "metadata": {},
   "source": [
    "### Prediction Algorithms and Image Number:"
   ]
  },
  {
   "cell_type": "code",
   "execution_count": 124,
   "metadata": {},
   "outputs": [
    {
     "data": {
      "image/png": "[encoded data removed]",
      "text/plain": [
       "<Figure size 432x288 with 1 Axes>"
      ]
     },
     "metadata": {},
     "output_type": "display_data"
    }
   ],
   "source": [
    "sns.countplot(data = df_final, x = 'img_num', hue='prediction_algorithm', order=df_final.img_num.value_counts().index);\n",
    "plt.legend(bbox_to_anchor=(1, 1), loc=2, borderaxespad=0.);"
   ]
  },
  {
   "cell_type": "markdown",
   "metadata": {},
   "source": [
    "### Average Confidance corresponding to Prediction Algorithms and Image Number:"
   ]
  },
  {
   "cell_type": "code",
   "execution_count": 125,
   "metadata": {},
   "outputs": [
    {
     "data": {
      "text/html": [
       "<div>\n",
       "<style scoped>\n",
       "    .dataframe tbody tr th:only-of-type {\n",
       "        vertical-align: middle;\n",
       "    }\n",
       "\n",
       "    .dataframe tbody tr th {\n",
       "        vertical-align: top;\n",
       "    }\n",
       "\n",
       "    .dataframe thead th {\n",
       "        text-align: right;\n",
       "    }\n",
       "</style>\n",
       "<table border=\"1\" class=\"dataframe\">\n",
       "  <thead>\n",
       "    <tr style=\"text-align: right;\">\n",
       "      <th></th>\n",
       "      <th></th>\n",
       "      <th>algorithm_conf</th>\n",
       "    </tr>\n",
       "    <tr>\n",
       "      <th>img_num</th>\n",
       "      <th>prediction_algorithm</th>\n",
       "      <th></th>\n",
       "    </tr>\n",
       "  </thead>\n",
       "  <tbody>\n",
       "    <tr>\n",
       "      <th rowspan=\"3\" valign=\"top\">img_1</th>\n",
       "      <th>P_1</th>\n",
       "      <td>0.599751</td>\n",
       "    </tr>\n",
       "    <tr>\n",
       "      <th>P_2</th>\n",
       "      <td>0.132459</td>\n",
       "    </tr>\n",
       "    <tr>\n",
       "      <th>P_3</th>\n",
       "      <td>0.054584</td>\n",
       "    </tr>\n",
       "    <tr>\n",
       "      <th rowspan=\"3\" valign=\"top\">img_2</th>\n",
       "      <th>P_1</th>\n",
       "      <td>0.702210</td>\n",
       "    </tr>\n",
       "    <tr>\n",
       "      <th>P_2</th>\n",
       "      <td>0.056392</td>\n",
       "    </tr>\n",
       "    <tr>\n",
       "      <th>P_3</th>\n",
       "      <td>0.032339</td>\n",
       "    </tr>\n",
       "    <tr>\n",
       "      <th rowspan=\"3\" valign=\"top\">img_3</th>\n",
       "      <th>P_1</th>\n",
       "      <td>0.744472</td>\n",
       "    </tr>\n",
       "    <tr>\n",
       "      <th>P_2</th>\n",
       "      <td>0.082903</td>\n",
       "    </tr>\n",
       "    <tr>\n",
       "      <th>P_3</th>\n",
       "      <td>0.001966</td>\n",
       "    </tr>\n",
       "    <tr>\n",
       "      <th rowspan=\"3\" valign=\"top\">img_4</th>\n",
       "      <th>P_1</th>\n",
       "      <td>0.863793</td>\n",
       "    </tr>\n",
       "    <tr>\n",
       "      <th>P_2</th>\n",
       "      <td>0.000000</td>\n",
       "    </tr>\n",
       "    <tr>\n",
       "      <th>P_3</th>\n",
       "      <td>0.109570</td>\n",
       "    </tr>\n",
       "  </tbody>\n",
       "</table>\n",
       "</div>"
      ],
      "text/plain": [
       "                              algorithm_conf\n",
       "img_num prediction_algorithm                \n",
       "img_1   P_1                         0.599751\n",
       "        P_2                         0.132459\n",
       "        P_3                         0.054584\n",
       "img_2   P_1                         0.702210\n",
       "        P_2                         0.056392\n",
       "        P_3                         0.032339\n",
       "img_3   P_1                         0.744472\n",
       "        P_2                         0.082903\n",
       "        P_3                         0.001966\n",
       "img_4   P_1                         0.863793\n",
       "        P_2                         0.000000\n",
       "        P_3                         0.109570"
      ]
     },
     "execution_count": 125,
     "metadata": {},
     "output_type": "execute_result"
    }
   ],
   "source": [
    "df_final.groupby(['img_num','prediction_algorithm'])[['algorithm_conf']].mean().fillna(0)"
   ]
  },
  {
   "cell_type": "code",
   "execution_count": 126,
   "metadata": {},
   "outputs": [
    {
     "data": {
      "image/png": "[encoded data removed]",
      "text/plain": [
       "<Figure size 432x288 with 1 Axes>"
      ]
     },
     "metadata": {},
     "output_type": "display_data"
    }
   ],
   "source": [
    "sns.barplot(data = df_final, x='img_num' , y='algorithm_conf', hue='prediction_algorithm', palette = 'viridis_r',\n",
    "            order=df_final.img_num.value_counts().index);\n",
    "plt.legend(title = 'Prediction Algorithm',bbox_to_anchor=(1, 1), loc=2, borderaxespad=0.);"
   ]
  },
  {
   "cell_type": "markdown",
   "metadata": {},
   "source": [
    "## Numerical Variables :"
   ]
  },
  {
   "cell_type": "code",
   "execution_count": 127,
   "metadata": {},
   "outputs": [
    {
     "data": {
      "text/html": [
       "<div>\n",
       "<style scoped>\n",
       "    .dataframe tbody tr th:only-of-type {\n",
       "        vertical-align: middle;\n",
       "    }\n",
       "\n",
       "    .dataframe tbody tr th {\n",
       "        vertical-align: top;\n",
       "    }\n",
       "\n",
       "    .dataframe thead th {\n",
       "        text-align: right;\n",
       "    }\n",
       "</style>\n",
       "<table border=\"1\" class=\"dataframe\">\n",
       "  <thead>\n",
       "    <tr style=\"text-align: right;\">\n",
       "      <th></th>\n",
       "      <th>algorithm_conf</th>\n",
       "      <th>rating_numerator</th>\n",
       "      <th>retweet_count</th>\n",
       "      <th>favorite_count</th>\n",
       "    </tr>\n",
       "  </thead>\n",
       "  <tbody>\n",
       "    <tr>\n",
       "      <th>count</th>\n",
       "      <td>1304.000000</td>\n",
       "      <td>1304.000000</td>\n",
       "      <td>1304.000000</td>\n",
       "      <td>1304.000000</td>\n",
       "    </tr>\n",
       "    <tr>\n",
       "      <th>mean</th>\n",
       "      <td>0.559266</td>\n",
       "      <td>11.165475</td>\n",
       "      <td>2983.199387</td>\n",
       "      <td>9743.056748</td>\n",
       "    </tr>\n",
       "    <tr>\n",
       "      <th>std</th>\n",
       "      <td>0.296496</td>\n",
       "      <td>1.797979</td>\n",
       "      <td>4427.091745</td>\n",
       "      <td>12747.669737</td>\n",
       "    </tr>\n",
       "    <tr>\n",
       "      <th>min</th>\n",
       "      <td>0.000062</td>\n",
       "      <td>0.000000</td>\n",
       "      <td>73.000000</td>\n",
       "      <td>0.000000</td>\n",
       "    </tr>\n",
       "    <tr>\n",
       "      <th>25%</th>\n",
       "      <td>0.319794</td>\n",
       "      <td>10.000000</td>\n",
       "      <td>793.750000</td>\n",
       "      <td>2407.000000</td>\n",
       "    </tr>\n",
       "    <tr>\n",
       "      <th>50%</th>\n",
       "      <td>0.568799</td>\n",
       "      <td>11.000000</td>\n",
       "      <td>1672.000000</td>\n",
       "      <td>4710.500000</td>\n",
       "    </tr>\n",
       "    <tr>\n",
       "      <th>75%</th>\n",
       "      <td>0.829344</td>\n",
       "      <td>12.000000</td>\n",
       "      <td>3419.250000</td>\n",
       "      <td>12703.250000</td>\n",
       "    </tr>\n",
       "    <tr>\n",
       "      <th>max</th>\n",
       "      <td>0.999953</td>\n",
       "      <td>34.000000</td>\n",
       "      <td>56561.000000</td>\n",
       "      <td>132712.000000</td>\n",
       "    </tr>\n",
       "  </tbody>\n",
       "</table>\n",
       "</div>"
      ],
      "text/plain": [
       "       algorithm_conf  rating_numerator  retweet_count  favorite_count\n",
       "count     1304.000000       1304.000000    1304.000000     1304.000000\n",
       "mean         0.559266         11.165475    2983.199387     9743.056748\n",
       "std          0.296496          1.797979    4427.091745    12747.669737\n",
       "min          0.000062          0.000000      73.000000        0.000000\n",
       "25%          0.319794         10.000000     793.750000     2407.000000\n",
       "50%          0.568799         11.000000    1672.000000     4710.500000\n",
       "75%          0.829344         12.000000    3419.250000    12703.250000\n",
       "max          0.999953         34.000000   56561.000000   132712.000000"
      ]
     },
     "execution_count": 127,
     "metadata": {},
     "output_type": "execute_result"
    }
   ],
   "source": [
    "df_final.describe()"
   ]
  },
  {
   "cell_type": "markdown",
   "metadata": {},
   "source": [
    "### Retweet Count Distribution:"
   ]
  },
  {
   "cell_type": "code",
   "execution_count": 128,
   "metadata": {},
   "outputs": [
    {
     "name": "stderr",
     "output_type": "stream",
     "text": [
      "C:\\Users\\El Zahraa\\anaconda3\\lib\\site-packages\\ipykernel_launcher.py:1: RuntimeWarning: divide by zero encountered in log10\n",
      "  \"\"\"Entry point for launching an IPython kernel.\n"
     ]
    },
    {
     "data": {
      "text/html": [
       "<div>\n",
       "<style scoped>\n",
       "    .dataframe tbody tr th:only-of-type {\n",
       "        vertical-align: middle;\n",
       "    }\n",
       "\n",
       "    .dataframe tbody tr th {\n",
       "        vertical-align: top;\n",
       "    }\n",
       "\n",
       "    .dataframe thead th {\n",
       "        text-align: right;\n",
       "    }\n",
       "</style>\n",
       "<table border=\"1\" class=\"dataframe\">\n",
       "  <thead>\n",
       "    <tr style=\"text-align: right;\">\n",
       "      <th></th>\n",
       "      <th>retweet_count</th>\n",
       "      <th>favorite_count</th>\n",
       "    </tr>\n",
       "  </thead>\n",
       "  <tbody>\n",
       "    <tr>\n",
       "      <th>count</th>\n",
       "      <td>3.115278</td>\n",
       "      <td>3.115278</td>\n",
       "    </tr>\n",
       "    <tr>\n",
       "      <th>mean</th>\n",
       "      <td>3.474682</td>\n",
       "      <td>3.988695</td>\n",
       "    </tr>\n",
       "    <tr>\n",
       "      <th>std</th>\n",
       "      <td>3.646119</td>\n",
       "      <td>4.105431</td>\n",
       "    </tr>\n",
       "    <tr>\n",
       "      <th>min</th>\n",
       "      <td>1.863323</td>\n",
       "      <td>-inf</td>\n",
       "    </tr>\n",
       "    <tr>\n",
       "      <th>25%</th>\n",
       "      <td>2.899684</td>\n",
       "      <td>3.381476</td>\n",
       "    </tr>\n",
       "    <tr>\n",
       "      <th>50%</th>\n",
       "      <td>3.223236</td>\n",
       "      <td>3.673067</td>\n",
       "    </tr>\n",
       "    <tr>\n",
       "      <th>75%</th>\n",
       "      <td>3.533931</td>\n",
       "      <td>4.103915</td>\n",
       "    </tr>\n",
       "    <tr>\n",
       "      <th>max</th>\n",
       "      <td>4.752517</td>\n",
       "      <td>5.122910</td>\n",
       "    </tr>\n",
       "  </tbody>\n",
       "</table>\n",
       "</div>"
      ],
      "text/plain": [
       "       retweet_count  favorite_count\n",
       "count       3.115278        3.115278\n",
       "mean        3.474682        3.988695\n",
       "std         3.646119        4.105431\n",
       "min         1.863323            -inf\n",
       "25%         2.899684        3.381476\n",
       "50%         3.223236        3.673067\n",
       "75%         3.533931        4.103915\n",
       "max         4.752517        5.122910"
      ]
     },
     "execution_count": 128,
     "metadata": {},
     "output_type": "execute_result"
    }
   ],
   "source": [
    "np.log10(df_final[['retweet_count','favorite_count']].describe())"
   ]
  },
  {
   "cell_type": "code",
   "execution_count": 129,
   "metadata": {},
   "outputs": [
    {
     "data": {
      "image/png": "[encoded data removed]",
      "text/plain": [
       "<Figure size 432x288 with 1 Axes>"
      ]
     },
     "metadata": {},
     "output_type": "display_data"
    }
   ],
   "source": [
    "bins_edge = 10**np.arange(1.8, np.log10(df_final.retweet_count.max())+1, 0.1)\n",
    "plt.hist(data=df_final, x='retweet_count', bins=bins_edge);\n",
    "ticks = [10**x for x in range(2,6)]\n",
    "labels = ['{}'.format(x) for x in ticks]\n",
    "plt.xscale('log');\n",
    "plt.xticks(ticks, labels);\n",
    "plt.xlabel('Retweet Count', fontsize=14);\n",
    "plt.ylabel('Distribution', fontsize=14);\n",
    "plt.title('Retweet Count Distribution');"
   ]
  },
  {
   "cell_type": "markdown",
   "metadata": {},
   "source": [
    "#### Comment: Distribution of `Retweet Count` is unimodal and symmetric, it has about the same shape on either side of the middle. "
   ]
  },
  {
   "cell_type": "markdown",
   "metadata": {},
   "source": [
    "### Favorite Count Distribution:"
   ]
  },
  {
   "cell_type": "code",
   "execution_count": 130,
   "metadata": {},
   "outputs": [
    {
     "name": "stderr",
     "output_type": "stream",
     "text": [
      "C:\\Users\\El Zahraa\\anaconda3\\lib\\site-packages\\pandas\\core\\series.py:679: RuntimeWarning: divide by zero encountered in log10\n",
      "  result = getattr(ufunc, method)(*inputs, **kwargs)\n"
     ]
    },
    {
     "data": {
      "text/plain": [
       "29          -inf\n",
       "1234    2.796574\n",
       "1199    2.797268\n",
       "1243    2.824126\n",
       "1275    2.840733\n",
       "Name: favorite_count, dtype: float64"
      ]
     },
     "execution_count": 130,
     "metadata": {},
     "output_type": "execute_result"
    }
   ],
   "source": [
    "np.log10(df_final.favorite_count.drop_duplicates().nsmallest(5))"
   ]
  },
  {
   "cell_type": "code",
   "execution_count": 131,
   "metadata": {},
   "outputs": [
    {
     "data": {
      "image/png": "[encoded data removed]",
      "text/plain": [
       "<Figure size 432x288 with 1 Axes>"
      ]
     },
     "metadata": {},
     "output_type": "display_data"
    }
   ],
   "source": [
    "bins_edge = 10**np.arange(2.7, np.log10(df_final.favorite_count.max())+1, 0.1)\n",
    "plt.hist(data=df_final, x='favorite_count', bins=bins_edge); #favorite_count\n",
    "plt.xscale('log');\n",
    "ticks = [10**x for x in range(2,6)]\n",
    "labels = ['{}'.format(x) for x in ticks]\n",
    "plt.xscale('log');\n",
    "plt.xlim(right=10**5+10**5);\n",
    "plt.xticks(ticks, labels);\n",
    "plt.xlabel('Favorite Count', fontsize=14);\n",
    "plt.ylabel('Distribution', fontsize=14);\n",
    "plt.title('Favorite Count Distribution');"
   ]
  },
  {
   "cell_type": "markdown",
   "metadata": {},
   "source": [
    "#### Comment: Distribution of `Favorite Count` is roughly bimodal and skewed to right, with one large peak somewhere between 4 and 5 thousand, and a second median peak about 10 thousand. "
   ]
  },
  {
   "cell_type": "markdown",
   "metadata": {},
   "source": [
    "### Rating Numerator Distribution:"
   ]
  },
  {
   "cell_type": "code",
   "execution_count": 132,
   "metadata": {},
   "outputs": [
    {
     "data": {
      "text/plain": [
       "12.00    385\n",
       "11.00    282\n",
       "10.00    232\n",
       "13.00    221\n",
       "9.00      84\n",
       "8.00      33\n",
       "14.00     25\n",
       "7.00      14\n",
       "5.00       7\n",
       "6.00       7\n",
       "2.00       4\n",
       "3.00       4\n",
       "13.50      1\n",
       "11.27      1\n",
       "0.00       1\n",
       "11.26      1\n",
       "9.75       1\n",
       "34.00      1\n",
       "Name: rating_numerator, dtype: int64"
      ]
     },
     "execution_count": 132,
     "metadata": {},
     "output_type": "execute_result"
    }
   ],
   "source": [
    "df_final.rating_numerator.value_counts()"
   ]
  },
  {
   "cell_type": "code",
   "execution_count": 133,
   "metadata": {},
   "outputs": [
    {
     "data": {
      "image/png": "[encoded data removed]",
      "text/plain": [
       "<Figure size 432x288 with 1 Axes>"
      ]
     },
     "metadata": {},
     "output_type": "display_data"
    }
   ],
   "source": [
    "bins_edge = np.arange(df_final.rating_numerator.min(), 14+1, 1)\n",
    "plt.hist(data=df_final, x='rating_numerator', bins=bins_edge+0.5);\n",
    "plt.xlim(right=16);\n",
    "plt.xlabel('Rating Numerator', fontsize=14);\n",
    "plt.ylabel('Distribution', fontsize=14);\n",
    "plt.title('Rating Numerator Distribution');"
   ]
  },
  {
   "cell_type": "markdown",
   "metadata": {},
   "source": [
    "#### Comment 1 : Distribution of `Rating` is unimodal and skewed to left\n",
    "#### Comment 2 : Rating is based on dog's owner not audience, so it won't be fair if we use rating variable  to determine best dog rating.  also, we shouldn't involve rating variable in bivariate exploration"
   ]
  },
  {
   "cell_type": "markdown",
   "metadata": {},
   "source": [
    "### Relation between Retweet Count and Favorite Count:"
   ]
  },
  {
   "cell_type": "code",
   "execution_count": 134,
   "metadata": {},
   "outputs": [
    {
     "data": {
      "text/html": [
       "<div>\n",
       "<style scoped>\n",
       "    .dataframe tbody tr th:only-of-type {\n",
       "        vertical-align: middle;\n",
       "    }\n",
       "\n",
       "    .dataframe tbody tr th {\n",
       "        vertical-align: top;\n",
       "    }\n",
       "\n",
       "    .dataframe thead th {\n",
       "        text-align: right;\n",
       "    }\n",
       "</style>\n",
       "<table border=\"1\" class=\"dataframe\">\n",
       "  <thead>\n",
       "    <tr style=\"text-align: right;\">\n",
       "      <th></th>\n",
       "      <th>retweet_count</th>\n",
       "      <th>favorite_count</th>\n",
       "    </tr>\n",
       "  </thead>\n",
       "  <tbody>\n",
       "    <tr>\n",
       "      <th>retweet_count</th>\n",
       "      <td>1.000000</td>\n",
       "      <td>0.846324</td>\n",
       "    </tr>\n",
       "    <tr>\n",
       "      <th>favorite_count</th>\n",
       "      <td>0.846324</td>\n",
       "      <td>1.000000</td>\n",
       "    </tr>\n",
       "  </tbody>\n",
       "</table>\n",
       "</div>"
      ],
      "text/plain": [
       "                retweet_count  favorite_count\n",
       "retweet_count        1.000000        0.846324\n",
       "favorite_count       0.846324        1.000000"
      ]
     },
     "execution_count": 134,
     "metadata": {},
     "output_type": "execute_result"
    }
   ],
   "source": [
    "df_final[['retweet_count','favorite_count']].corr()"
   ]
  },
  {
   "cell_type": "markdown",
   "metadata": {},
   "source": [
    "#### Comment: strong positive correlation between these two variables"
   ]
  },
  {
   "cell_type": "code",
   "execution_count": 135,
   "metadata": {},
   "outputs": [
    {
     "data": {
      "image/png": "[encoded data removed]",
      "text/plain": [
       "<Figure size 360x360 with 1 Axes>"
      ]
     },
     "metadata": {},
     "output_type": "display_data"
    }
   ],
   "source": [
    "sns.lmplot(x=\"retweet_count\", y=\"favorite_count\", data = df_final,scatter_kws = {'alpha':0.2});\n",
    "plt.xscale('log');\n",
    "plt.yscale('log');\n",
    "xlocs = [10**x for x in range(2,6)]\n",
    "xlabels = ['{}'.format(x) for x in ticks]\n",
    "ylocs = [10**x for x in range(2,6)]\n",
    "ylabels = ['{}'.format(x) for x in ticks]\n",
    "plt.xticks(xlocs, xlabels);\n",
    "plt.yticks(ylocs, ylabels);\n",
    "plt.xlabel('Retweet Count', fontsize=14);\n",
    "plt.ylabel('Favorite Count', fontsize=14);\n",
    "plt.title('Relation between Retweet Count and Favorite Count', fontsize=16);"
   ]
  },
  {
   "cell_type": "markdown",
   "metadata": {},
   "source": [
    "#### Comment: `Retweet Count` is proportional to `Favorite Count` as shown, and this confirms the positive correlation between these two variables "
   ]
  },
  {
   "cell_type": "code",
   "execution_count": null,
   "metadata": {},
   "outputs": [],
   "source": []
  },
  {
   "cell_type": "code",
   "execution_count": null,
   "metadata": {},
   "outputs": [],
   "source": []
  }
 ],
 "metadata": {
  "kernelspec": {
   "display_name": "Python 3",
   "language": "python",
   "name": "python3"
  },
  "language_info": {
   "codemirror_mode": {
    "name": "ipython",
    "version": 3
   },
   "file_extension": ".py",
   "mimetype": "text/x-python",
   "name": "python",
   "nbconvert_exporter": "python",
   "pygments_lexer": "ipython3",
   "version": "3.7.6"
  }
 },
 "nbformat": 4,
 "nbformat_minor": 2
}
